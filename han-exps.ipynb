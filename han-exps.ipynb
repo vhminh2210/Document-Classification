{
 "cells": [
  {
   "cell_type": "markdown",
   "id": "2ca094b3",
   "metadata": {
    "_cell_guid": "b1076dfc-b9ad-4769-8c92-a6c4dae69d19",
    "_uuid": "8f2839f25d086af736a60e9eeb907d3b93b6e0e5",
    "execution": {
     "iopub.execute_input": "2024-04-07T04:41:24.877131Z",
     "iopub.status.busy": "2024-04-07T04:41:24.876742Z",
     "iopub.status.idle": "2024-04-07T04:41:24.883841Z",
     "shell.execute_reply": "2024-04-07T04:41:24.882762Z",
     "shell.execute_reply.started": "2024-04-07T04:41:24.877104Z"
    },
    "papermill": {
     "duration": 0.010384,
     "end_time": "2024-06-03T02:01:51.087059",
     "exception": false,
     "start_time": "2024-06-03T02:01:51.076675",
     "status": "completed"
    },
    "tags": []
   },
   "source": [
    "# Hierarchical Attention Networks for Document Classification\n",
    "PyTorch implementation of **Hierarchical Attention Networks for Document Classification (NAACL 2016)**\n",
    "\n",
    "# Table of Contents\n",
    "* [Preamble](#Preamble)\n",
    "* [Word2Vec Module](#Word2Vec-Module)\n",
    "* [Load Vocabulary and Embeddings](#Load-Vocabulary-and-Embeddings)\n",
    "    * [Negative sampling](#Negative-sampling)\n",
    "    * [GloVe](#GloVe)\n",
    "* [PyTorch Dataset class](#PyTorch-Dataset-class)\n",
    "* [HAN Model](#HAN-Model)\n",
    "* [Training](#Training)"
   ]
  },
  {
   "cell_type": "markdown",
   "id": "833c9819",
   "metadata": {
    "papermill": {
     "duration": 0.01123,
     "end_time": "2024-06-03T02:01:51.110454",
     "exception": false,
     "start_time": "2024-06-03T02:01:51.099224",
     "status": "completed"
    },
    "tags": []
   },
   "source": [
    "# Preamble"
   ]
  },
  {
   "cell_type": "code",
   "execution_count": 1,
   "id": "9878bbe6",
   "metadata": {
    "execution": {
     "iopub.execute_input": "2024-06-03T02:01:51.137873Z",
     "iopub.status.busy": "2024-06-03T02:01:51.136433Z",
     "iopub.status.idle": "2024-06-03T02:01:55.490909Z",
     "shell.execute_reply": "2024-06-03T02:01:55.489938Z"
    },
    "papermill": {
     "duration": 4.36989,
     "end_time": "2024-06-03T02:01:55.493302",
     "exception": false,
     "start_time": "2024-06-03T02:01:51.123412",
     "status": "completed"
    },
    "tags": []
   },
   "outputs": [],
   "source": [
    "# Preamble\n",
    "import time, random\n",
    "import re, string\n",
    "import os, sys\n",
    "import math\n",
    "import json\n",
    "\n",
    "import numpy as np\n",
    "import pandas as pd\n",
    "import matplotlib.pyplot as plt\n",
    "\n",
    "import torch\n",
    "import torch.nn as nn\n",
    "from torch.utils.data import Dataset, DataLoader\n",
    "import torch.nn.functional as F\n",
    "\n",
    "from tqdm import tqdm\n",
    "\n",
    "DEVICE = torch.device(\"cuda:0\" if torch.cuda.is_available() else \"cpu\")\n",
    "BATCH_SIZE = 64"
   ]
  },
  {
   "cell_type": "markdown",
   "id": "a73b31e7",
   "metadata": {
    "papermill": {
     "duration": 0.008038,
     "end_time": "2024-06-03T02:01:55.509470",
     "exception": false,
     "start_time": "2024-06-03T02:01:55.501432",
     "status": "completed"
    },
    "tags": []
   },
   "source": [
    "# Word2Vec Module\n",
    "Following the original paper, we trained the word embeddings using *Negative sampling* technique introduced in **Distributed Representations of Words and Phrases and their Compositionality (NIPS 2013)**"
   ]
  },
  {
   "cell_type": "code",
   "execution_count": 2,
   "id": "a32c4251",
   "metadata": {
    "execution": {
     "iopub.execute_input": "2024-06-03T02:01:55.526836Z",
     "iopub.status.busy": "2024-06-03T02:01:55.526399Z",
     "iopub.status.idle": "2024-06-03T02:01:55.537949Z",
     "shell.execute_reply": "2024-06-03T02:01:55.537137Z"
    },
    "papermill": {
     "duration": 0.02254,
     "end_time": "2024-06-03T02:01:55.539835",
     "exception": false,
     "start_time": "2024-06-03T02:01:55.517295",
     "status": "completed"
    },
    "tags": []
   },
   "outputs": [],
   "source": [
    "# Negative sampling embedding module\n",
    "class NegSamplingEmbedding(nn.Module):\n",
    "    '''\n",
    "    Vocab_size: V\n",
    "    Embedding_size: E\n",
    "    Text_length: L\n",
    "    Batch_size: B\n",
    "    \n",
    "    Consult: https://github.com/mindspore-courses/DeepNLP-models-MindSpore/\n",
    "            blob/main/notebooks/02.Skip-gram-Negative-Sampling.ipynb\n",
    "    '''\n",
    "    def __init__(self, vocab_size, embedding_size):\n",
    "        super(NegSamplingEmbedding, self).__init__()\n",
    "        self.U = nn.Embedding(vocab_size, embedding_size) # Center embedding\n",
    "        self.V = nn.Embedding(vocab_size, embedding_size) # Outside embedding\n",
    "        self.LogSig = nn.LogSigmoid()\n",
    "        \n",
    "    def forward(self, wc, wo, wk, mask_c, mask_o, check_shape= False):\n",
    "        vc = self.V(wc) # Center embedding. Shape: (B, L, E)\n",
    "        uo = self.U(wo) # Outside embedding. Shape: (B, L, C, E)\n",
    "        uk = self.U(wk) # Random embedding. Shape: (B, L, C, E, K)\n",
    "        \n",
    "        if check_shape:\n",
    "            B = uk.shape[0]\n",
    "            L = uk.shape[1]\n",
    "            C = uk.shape[2]\n",
    "            K = uk.shape[3]\n",
    "            E = uk.shape[4]\n",
    "            print(f\"Basic shapes: B = {B}; L = {L}; C = {C}; K = {K}; E = {E}\")\n",
    "            print('*********************************')\n",
    "            print('Shape of vc:', vc.shape)\n",
    "            print('Shape of uo:', uo.shape)\n",
    "            print('Shape of uk:', uk.shape)\n",
    "            print('*********************************')\n",
    "        cmp1 = torch.einsum('blce,ble->blc', uo, vc) # Shape: (B, L, C)\n",
    "        cmp2 = torch.einsum('blcke,ble->blck', uk, vc) # Shape: (B, L, C, K)\n",
    "        \n",
    "        cmp1 = self.LogSig(cmp1) * mask_o # Shape: (B, L, C)\n",
    "        cmp2 = self.LogSig(-cmp2) # Shape: (B, L, C, K)\n",
    "        cmp2 = torch.einsum('blck->blc', cmp2) * mask_o # Shape: (B, L, C)\n",
    "    \n",
    "        cmp1 = torch.einsum('blc->bl', cmp1) # Shape: (B, L)\n",
    "        cmp2 = torch.einsum('blc->bl', cmp2) # Shape: (B, L)\n",
    "        \n",
    "        loss = torch.mean(cmp1 + cmp2)\n",
    "        \n",
    "        if check_shape:\n",
    "            print('Shape of cmp1:', cmp1.shape)\n",
    "            print('Shape of cmp2:', cmp2.shape)\n",
    "            print('Shape of LOSS:', loss.shape)\n",
    "        return -loss"
   ]
  },
  {
   "cell_type": "markdown",
   "id": "8ed53fee",
   "metadata": {
    "papermill": {
     "duration": 0.008512,
     "end_time": "2024-06-03T02:01:55.556050",
     "exception": false,
     "start_time": "2024-06-03T02:01:55.547538",
     "status": "completed"
    },
    "tags": []
   },
   "source": [
    "# Load Vocabulary and Embeddings"
   ]
  },
  {
   "cell_type": "code",
   "execution_count": 3,
   "id": "8e662fe3",
   "metadata": {
    "execution": {
     "iopub.execute_input": "2024-06-03T02:01:55.572456Z",
     "iopub.status.busy": "2024-06-03T02:01:55.572187Z",
     "iopub.status.idle": "2024-06-03T02:01:55.575753Z",
     "shell.execute_reply": "2024-06-03T02:01:55.574920Z"
    },
    "papermill": {
     "duration": 0.013794,
     "end_time": "2024-06-03T02:01:55.577542",
     "exception": false,
     "start_time": "2024-06-03T02:01:55.563748",
     "status": "completed"
    },
    "tags": []
   },
   "outputs": [],
   "source": [
    "# Embedding type. 'glove' or 'negative_sampling'\n",
    "MODE = 'glove'"
   ]
  },
  {
   "cell_type": "markdown",
   "id": "85ba5934",
   "metadata": {
    "papermill": {
     "duration": 0.007626,
     "end_time": "2024-06-03T02:01:55.592946",
     "exception": false,
     "start_time": "2024-06-03T02:01:55.585320",
     "status": "completed"
    },
    "tags": []
   },
   "source": [
    "## Negative sampling\n",
    "Here we load the pretrained vocab and embeddings constructed using **Negative Sampling.**"
   ]
  },
  {
   "cell_type": "code",
   "execution_count": 4,
   "id": "ec3136b7",
   "metadata": {
    "execution": {
     "iopub.execute_input": "2024-06-03T02:01:55.609353Z",
     "iopub.status.busy": "2024-06-03T02:01:55.609075Z",
     "iopub.status.idle": "2024-06-03T02:01:57.189301Z",
     "shell.execute_reply": "2024-06-03T02:01:57.188473Z"
    },
    "papermill": {
     "duration": 1.591043,
     "end_time": "2024-06-03T02:01:57.191645",
     "exception": false,
     "start_time": "2024-06-03T02:01:55.600602",
     "status": "completed"
    },
    "tags": []
   },
   "outputs": [],
   "source": [
    "# Prepare vocab, counter, tokenizer\n",
    "from torchtext.data.utils import get_tokenizer\n",
    "from torchtext.vocab import vocab, build_vocab_from_iterator\n",
    "\n",
    "from collections import Counter\n",
    "\n",
    "tokenizer = get_tokenizer(\"basic_english\")\n",
    "\n",
    "vocab_ns = torch.load('/kaggle/input/hlt-word2vec/vocab.pth')"
   ]
  },
  {
   "cell_type": "code",
   "execution_count": 5,
   "id": "a7c689a5",
   "metadata": {
    "execution": {
     "iopub.execute_input": "2024-06-03T02:01:57.209747Z",
     "iopub.status.busy": "2024-06-03T02:01:57.208846Z",
     "iopub.status.idle": "2024-06-03T02:01:57.214329Z",
     "shell.execute_reply": "2024-06-03T02:01:57.213522Z"
    },
    "papermill": {
     "duration": 0.016221,
     "end_time": "2024-06-03T02:01:57.216167",
     "exception": false,
     "start_time": "2024-06-03T02:01:57.199946",
     "status": "completed"
    },
    "tags": []
   },
   "outputs": [],
   "source": [
    "# Task configs\n",
    "VOCAB_SIZE = len(vocab_ns)\n",
    "GRU_DIM = 50\n",
    "NUM_CLASSES = 2"
   ]
  },
  {
   "cell_type": "code",
   "execution_count": 6,
   "id": "aa010d04",
   "metadata": {
    "execution": {
     "iopub.execute_input": "2024-06-03T02:01:57.232490Z",
     "iopub.status.busy": "2024-06-03T02:01:57.232234Z",
     "iopub.status.idle": "2024-06-03T02:01:58.836085Z",
     "shell.execute_reply": "2024-06-03T02:01:58.835236Z"
    },
    "papermill": {
     "duration": 1.614402,
     "end_time": "2024-06-03T02:01:58.838268",
     "exception": false,
     "start_time": "2024-06-03T02:01:57.223866",
     "status": "completed"
    },
    "tags": []
   },
   "outputs": [],
   "source": [
    "# Prepare word embeddings\n",
    "WORD2VEC_PATH = '/kaggle/input/hlt-word2vec/word2vec.pth'\n",
    "EMBEDDING_DIM = 200\n",
    "word2vec = NegSamplingEmbedding(VOCAB_SIZE, EMBEDDING_DIM)\n",
    "word2vec.load_state_dict(torch.load(WORD2VEC_PATH, map_location= DEVICE))\n",
    "word2vec.eval()\n",
    "\n",
    "W_e = word2vec.V.weight.detach().to(DEVICE)"
   ]
  },
  {
   "cell_type": "markdown",
   "id": "010ae276",
   "metadata": {
    "papermill": {
     "duration": 0.007595,
     "end_time": "2024-06-03T02:01:58.854081",
     "exception": false,
     "start_time": "2024-06-03T02:01:58.846486",
     "status": "completed"
    },
    "tags": []
   },
   "source": [
    "## GloVe\n",
    "Here we import pretrained word embeddings **GloVe**. We plan on evaluating HAN using GloVe 6B $(D = 200)$ and GloVe 42B $(D = 300)$."
   ]
  },
  {
   "cell_type": "code",
   "execution_count": 7,
   "id": "2075587b",
   "metadata": {
    "execution": {
     "iopub.execute_input": "2024-06-03T02:01:58.870779Z",
     "iopub.status.busy": "2024-06-03T02:01:58.870464Z",
     "iopub.status.idle": "2024-06-03T02:01:58.875637Z",
     "shell.execute_reply": "2024-06-03T02:01:58.874729Z"
    },
    "papermill": {
     "duration": 0.015864,
     "end_time": "2024-06-03T02:01:58.877614",
     "exception": false,
     "start_time": "2024-06-03T02:01:58.861750",
     "status": "completed"
    },
    "tags": []
   },
   "outputs": [],
   "source": [
    "# Double check vocab - embedding matching\n",
    "def arr_equal_check(arr1, arr2):\n",
    "    if len(arr1) != len(arr2):\n",
    "        return False\n",
    "    \n",
    "    for i in range(len(arr1)):\n",
    "        if arr1[i] != arr2[i]:\n",
    "            return False\n",
    "        \n",
    "    return True"
   ]
  },
  {
   "cell_type": "code",
   "execution_count": 8,
   "id": "5cd9d123",
   "metadata": {
    "execution": {
     "iopub.execute_input": "2024-06-03T02:01:58.895192Z",
     "iopub.status.busy": "2024-06-03T02:01:58.894904Z",
     "iopub.status.idle": "2024-06-03T02:06:03.952343Z",
     "shell.execute_reply": "2024-06-03T02:06:03.943470Z"
    },
    "papermill": {
     "duration": 245.069307,
     "end_time": "2024-06-03T02:06:03.955225",
     "exception": false,
     "start_time": "2024-06-03T02:01:58.885918",
     "status": "completed"
    },
    "tags": []
   },
   "outputs": [],
   "source": [
    "# Load GloVe embeddings\n",
    "EMBEDDING_DIM = 300\n",
    "\n",
    "glove_txt = '/kaggle/input/glovewordembeddings/glove.42B.300d.txt'\n",
    "with open(glove_txt, 'r') as file:\n",
    "    lines = file.readlines()\n",
    "    file.close()\n",
    "\n",
    "W_list = []\n",
    "word_list = ['<unk>']\n",
    "freq = {} # Construct vocab from dict \n",
    "\n",
    "for line in lines:\n",
    "    words = line.split(' ')\n",
    "    word = words[0]\n",
    "    word_list.append(word)\n",
    "    freq[word] = 1\n",
    "    \n",
    "    arr = np.array(words[1:], dtype= float)\n",
    "    W_list.append(torch.tensor(arr, dtype= torch.float))\n",
    "    \n",
    "unk_embed = [sum(W_list) / len(W_list)]\n",
    "W_list = unk_embed + W_list\n",
    "\n",
    "W_glove = torch.stack(W_list).to(DEVICE)\n",
    "vocab_glove = vocab(\n",
    "    freq,\n",
    "    specials= [\"<unk>\"]\n",
    ")\n",
    "vocab_glove.set_default_index(vocab_glove[\"<unk>\"])\n",
    "\n",
    "# Make sure vocab match word embeddings\n",
    "assert arr_equal_check(vocab_glove.get_itos(), word_list)"
   ]
  },
  {
   "cell_type": "markdown",
   "id": "a890ed00",
   "metadata": {
    "papermill": {
     "duration": 0.007562,
     "end_time": "2024-06-03T02:06:03.970895",
     "exception": false,
     "start_time": "2024-06-03T02:06:03.963333",
     "status": "completed"
    },
    "tags": []
   },
   "source": [
    "# PyTorch Dataset class"
   ]
  },
  {
   "cell_type": "code",
   "execution_count": 9,
   "id": "5925f2ff",
   "metadata": {
    "execution": {
     "iopub.execute_input": "2024-06-03T02:06:03.987820Z",
     "iopub.status.busy": "2024-06-03T02:06:03.987233Z",
     "iopub.status.idle": "2024-06-03T02:06:04.040411Z",
     "shell.execute_reply": "2024-06-03T02:06:04.039554Z"
    },
    "papermill": {
     "duration": 0.063808,
     "end_time": "2024-06-03T02:06:04.042305",
     "exception": false,
     "start_time": "2024-06-03T02:06:03.978497",
     "status": "completed"
    },
    "tags": []
   },
   "outputs": [],
   "source": [
    "# YELP Dataset\n",
    "def collate_batch(batch):\n",
    "    '''\n",
    "    Collate batch with zero-padding\n",
    "    Consult: https://pytorch.org/tutorials/beginner/text_sentiment_ngrams_tutorial.html\n",
    "    '''\n",
    "    texts = []\n",
    "    labels = []\n",
    "    mask = []\n",
    "    for _text, _label in batch:\n",
    "        texts.append(_text)\n",
    "        labels.append(_label)\n",
    "        \n",
    "    L = max([len(text) for text in texts])\n",
    "    \n",
    "    for i in range(len(texts)):\n",
    "        l = texts[i].shape[0]\n",
    "        cur_mask = torch.ones(L)\n",
    "        if l < L:\n",
    "            cur_mask[l:L] = 0\n",
    "            # Zero-padding text, only on one side.\n",
    "            texts[i] = F.pad(texts[i], (0, L-l), 'constant', 0)\n",
    "            \n",
    "        mask.append(cur_mask)\n",
    "    \n",
    "    texts = torch.stack(texts)\n",
    "    labels = torch.stack(labels)\n",
    "    mask = torch.stack(mask)\n",
    "    return texts, labels, mask\n",
    "\n",
    "def collate_batch_HAN(batch):\n",
    "    return batch\n",
    "\n",
    "class NLPDataset(Dataset):\n",
    "    def __init__(self, df, vocab, tokenizer, \n",
    "                 text_col= 'text', label_col= 'label',\n",
    "                 df_sort= True, punct_splt= False):\n",
    "        self.df = df\n",
    "        self.tokenizer = tokenizer\n",
    "        self.vocab = vocab\n",
    "        self.len_vocab = len(vocab)\n",
    "        self.punct_splt = punct_splt\n",
    "        if df_sort:\n",
    "            self.sort_df_by_txt_len(text_col)\n",
    "        self.fea = text_col\n",
    "        self.label = label_col\n",
    "    \n",
    "    def sort_df_by_txt_len(self, text_col):\n",
    "        len_list = [-len(re.split(\"[.!?]+\", self.df.iloc[i][text_col])) for i in range(len(self.df))]\n",
    "        self.df = self.df.iloc[np.argsort(len_list)]\n",
    "    \n",
    "    def __len__(self):\n",
    "        return len(self.df)\n",
    "\n",
    "    def text_pipeline(self, x):\n",
    "        x = x.replace('\\'', '')\n",
    "        return self.vocab(self.tokenizer(x))\n",
    "\n",
    "    def label_pipeline(self, x):\n",
    "        return int(x)\n",
    "    \n",
    "    def __getitem__(self, idx):\n",
    "        if not self.punct_splt:\n",
    "            txt = self.text_pipeline(self.df.iloc[idx][self.fea])\n",
    "            txt = torch.tensor(txt, dtype= torch.int64)\n",
    "\n",
    "            label = self.label_pipeline(self.df.iloc[idx][self.label])\n",
    "            label = torch.tensor(label, dtype= torch.int64)\n",
    "\n",
    "            return (txt, label)\n",
    "    \n",
    "        else:\n",
    "            txt = self.df.iloc[idx][self.fea]\n",
    "            sentences = re.split(\"[.!?]+\", txt)\n",
    "            L = 0\n",
    "            X = []\n",
    "            mask = []\n",
    "            \n",
    "            for s in sentences:\n",
    "                l = len(s)\n",
    "                if l == 0:\n",
    "                    continue\n",
    "                X.append(torch.tensor(self.text_pipeline(s), dtype= torch.int64))\n",
    "                L = max(L, X[-1].shape[0])\n",
    "                \n",
    "            if len(X) == 0:\n",
    "                return (None, None, None)\n",
    "            \n",
    "            for i in range(len(X)):\n",
    "                l = X[i].shape[0]\n",
    "                cur_mask = torch.ones(L)\n",
    "                \n",
    "                # Zero-padding sentence\n",
    "                if(l < L):\n",
    "                    # Zero-padding sentence, only on one side.\n",
    "                    X[i] = F.pad(X[i], (0, L - l), 'constant', 0)\n",
    "                    cur_mask[l:L] = 0\n",
    "                \n",
    "                mask.append(cur_mask)\n",
    "                    \n",
    "            X = torch.stack(X)\n",
    "            mask = torch.stack(mask)\n",
    "            \n",
    "            label = self.label_pipeline(self.df.iloc[idx][self.label])\n",
    "            label = torch.tensor(label, dtype= torch.int64)\n",
    "            \n",
    "            return (X, label, mask)"
   ]
  },
  {
   "cell_type": "code",
   "execution_count": 10,
   "id": "363ea7d8",
   "metadata": {
    "execution": {
     "iopub.execute_input": "2024-06-03T02:06:04.058975Z",
     "iopub.status.busy": "2024-06-03T02:06:04.058682Z",
     "iopub.status.idle": "2024-06-03T02:06:04.119032Z",
     "shell.execute_reply": "2024-06-03T02:06:04.118089Z"
    },
    "papermill": {
     "duration": 0.071094,
     "end_time": "2024-06-03T02:06:04.121202",
     "exception": false,
     "start_time": "2024-06-03T02:06:04.050108",
     "status": "completed"
    },
    "tags": []
   },
   "outputs": [],
   "source": [
    "# # YELP preparation\n",
    "# data_file = open(\"/kaggle/input/yelp-dataset/yelp_academic_dataset_review.json\")\n",
    "# data = []\n",
    "\n",
    "# # cnt = 1569264 # Size of YELP 2015 dataset\n",
    "# cnt = 10000\n",
    "\n",
    "# for line in data_file:\n",
    "#     data.append(json.loads(line))\n",
    "#     cnt -= 1\n",
    "#     if cnt == 0:\n",
    "#         break\n",
    "    \n",
    "# data_file.close()\n",
    "# df = pd.DataFrame(data)\n",
    "\n",
    "# print(\"Number of datapoints:\", len(df))\n",
    "# df.head()\n",
    "\n",
    "# # R52 Preparation\n",
    "# train_df = pd.read_csv('/kaggle/input/smolcsv/r52-train-stemmed.csv')\n",
    "# val_df = pd.read_csv('/kaggle/input/smolcsv/r52-dev-stemmed.csv')\n",
    "# test_df = pd.read_csv('/kaggle/input/smolcsv/r52-test-stemmed.csv')\n",
    "\n",
    "# df = pd.concat([train_df, val_df, test_df])\n",
    "\n",
    "# print('Size of data corpus:', len(df))\n",
    "# df.head()\n",
    "\n",
    "# MR Preparation\n",
    "df = pd.read_csv('/kaggle/input/smolcsv/MR.csv')"
   ]
  },
  {
   "cell_type": "code",
   "execution_count": 11,
   "id": "aa3513a0",
   "metadata": {
    "execution": {
     "iopub.execute_input": "2024-06-03T02:06:04.138821Z",
     "iopub.status.busy": "2024-06-03T02:06:04.138252Z",
     "iopub.status.idle": "2024-06-03T02:06:04.160826Z",
     "shell.execute_reply": "2024-06-03T02:06:04.159773Z"
    },
    "papermill": {
     "duration": 0.033308,
     "end_time": "2024-06-03T02:06:04.162894",
     "exception": false,
     "start_time": "2024-06-03T02:06:04.129586",
     "status": "completed"
    },
    "tags": []
   },
   "outputs": [
    {
     "name": "stdout",
     "output_type": "stream",
     "text": [
      "Size of trainset: 8529\n",
      "Size of valset: 1066\n",
      "Size of testset: 1067\n"
     ]
    }
   ],
   "source": [
    "# Train-val-test splits\n",
    "df_size = len(df)\n",
    "idx = [x for x in range(df_size)]\n",
    "random.Random(555).shuffle(idx)\n",
    "\n",
    "train_num = int(df_size * 0.8)\n",
    "val_num = int(df_size * 0.1)\n",
    "test_num = int(df_size * 0.1)\n",
    "\n",
    "# print(train_num, val_num, test_num)\n",
    "\n",
    "train_idx = idx[:train_num]\n",
    "val_idx = idx[train_num : (train_num + val_num)]\n",
    "test_idx = idx[(train_num + val_num) : ]\n",
    "\n",
    "train_df = df.iloc[train_idx]\n",
    "val_df = df.iloc[val_idx]\n",
    "test_df = df.iloc[test_idx]\n",
    "\n",
    "print('Size of trainset:', len(train_df))\n",
    "print('Size of valset:', len(val_df))\n",
    "print('Size of testset:', len(test_df))"
   ]
  },
  {
   "cell_type": "code",
   "execution_count": 12,
   "id": "c19d3e5a",
   "metadata": {
    "execution": {
     "iopub.execute_input": "2024-06-03T02:06:04.180291Z",
     "iopub.status.busy": "2024-06-03T02:06:04.179641Z",
     "iopub.status.idle": "2024-06-03T02:06:04.910371Z",
     "shell.execute_reply": "2024-06-03T02:06:04.909392Z"
    },
    "papermill": {
     "duration": 0.741478,
     "end_time": "2024-06-03T02:06:04.912436",
     "exception": false,
     "start_time": "2024-06-03T02:06:04.170958",
     "status": "completed"
    },
    "tags": []
   },
   "outputs": [
    {
     "name": "stdout",
     "output_type": "stream",
     "text": [
      "Shape of Texts: torch.Size([13, 19])\n",
      "Shape of Labels: torch.Size([])\n",
      "Shape of Mask: torch.Size([13, 19])\n"
     ]
    }
   ],
   "source": [
    "# Dataset, Dataloader\n",
    "if MODE == 'glove':\n",
    "    data_vocab = vocab_glove\n",
    "if MODE == 'negative_sampling':\n",
    "    data_vocab = vocab_ns\n",
    "\n",
    "trainset = NLPDataset(train_df, data_vocab, tokenizer, punct_splt= True)\n",
    "valset = NLPDataset(val_df, data_vocab, tokenizer, punct_splt= True)\n",
    "testset = NLPDataset(test_df, data_vocab, tokenizer, punct_splt= True)\n",
    "\n",
    "trainloader = DataLoader(trainset, batch_size= BATCH_SIZE, \n",
    "                         shuffle= False, pin_memory= True, collate_fn= collate_batch_HAN)\n",
    "valloader = DataLoader(valset, batch_size= BATCH_SIZE, \n",
    "                         shuffle= False, pin_memory= True, collate_fn= collate_batch_HAN)\n",
    "testloader = DataLoader(testset, batch_size= BATCH_SIZE, \n",
    "                         shuffle= False, pin_memory= True, collate_fn= collate_batch_HAN)\n",
    "\n",
    "for batch in trainloader:\n",
    "    X, y, mask = batch[0]\n",
    "    print(\"Shape of Texts:\", X.shape)\n",
    "    print(\"Shape of Labels:\", y.shape)\n",
    "    print(\"Shape of Mask:\", mask.shape)\n",
    "    break"
   ]
  },
  {
   "cell_type": "markdown",
   "id": "0fdbfe50",
   "metadata": {
    "papermill": {
     "duration": 0.007679,
     "end_time": "2024-06-03T02:06:04.928169",
     "exception": false,
     "start_time": "2024-06-03T02:06:04.920490",
     "status": "completed"
    },
    "tags": []
   },
   "source": [
    "# HAN Model"
   ]
  },
  {
   "cell_type": "code",
   "execution_count": 13,
   "id": "c230c77f",
   "metadata": {
    "execution": {
     "iopub.execute_input": "2024-06-03T02:06:04.945346Z",
     "iopub.status.busy": "2024-06-03T02:06:04.944710Z",
     "iopub.status.idle": "2024-06-03T02:06:04.960103Z",
     "shell.execute_reply": "2024-06-03T02:06:04.959407Z"
    },
    "papermill": {
     "duration": 0.025976,
     "end_time": "2024-06-03T02:06:04.961922",
     "exception": false,
     "start_time": "2024-06-03T02:06:04.935946",
     "status": "completed"
    },
    "tags": []
   },
   "outputs": [],
   "source": [
    "class HANModel(nn.Module):\n",
    "    def __init__(self, W_e, embedding_dim, gru_dim, \n",
    "                 num_classes):\n",
    "        super(HANModel, self).__init__()\n",
    "        \n",
    "        DEVICE = torch.device(\"cuda:0\" if torch.cuda.is_available() else \"cpu\")\n",
    "        \n",
    "        # Initialize\n",
    "        self.E = embedding_dim\n",
    "        self.G = gru_dim\n",
    "        self.num_classes = num_classes\n",
    "        \n",
    "        # Pretrained word embeddings\n",
    "        self.W_e = W_e\n",
    "        \n",
    "        # Word-level attention\n",
    "        self.WordEncoder = nn.GRU(\n",
    "            input_size= embedding_dim,\n",
    "            hidden_size= gru_dim,\n",
    "            batch_first= True,\n",
    "            bidirectional= True\n",
    "        )\n",
    "        self.WordMLP = nn.Sequential(\n",
    "            nn.Linear(2*gru_dim, 2*gru_dim),\n",
    "            nn.Tanh()\n",
    "        )\n",
    "        self.u_w = nn.Parameter(torch.randn(2*gru_dim))\n",
    "        \n",
    "        # Sequence-level attention\n",
    "        self.SeqEncoder = nn.GRU(\n",
    "            input_size= 2*gru_dim,\n",
    "            hidden_size= gru_dim,\n",
    "            batch_first= True,\n",
    "            bidirectional= True\n",
    "        )\n",
    "        self.SeqMLP = nn.Sequential(\n",
    "            nn.Linear(2*gru_dim, 2*gru_dim),\n",
    "            nn.Tanh()\n",
    "        )\n",
    "        self.u_s = nn.Parameter(torch.randn(2*gru_dim))\n",
    "        \n",
    "        # Classifier\n",
    "        self.classifier = nn.Sequential(\n",
    "            nn.Linear(2*gru_dim, num_classes),\n",
    "            nn.Softmax()\n",
    "        )\n",
    "        \n",
    "    def forward(self, text, mask, check_shape= False):\n",
    "        '''\n",
    "        <text> is expected to have shape (S, L)\n",
    "        \n",
    "        Number of sentence: S\n",
    "        Max sentence length: L\n",
    "        Embedding size: E\n",
    "        GRU dimension: G -> Bidirectional: 2G\n",
    "        '''\n",
    "        S = text.shape[0]\n",
    "        L = text.shape[1]\n",
    "        \n",
    "        x = self.W_e[text] # Text embedding, Shape: (S, L, E)\n",
    "        hW,_ = self.WordEncoder(x) # Word annotation. Shape: (S, L, 2G)\n",
    "        uW = self.WordMLP(hW) # Word hidden representation. Shape: (S, L, 2G)\n",
    "\n",
    "        # Attention weight - Needs verifications\n",
    "        alphaW = nn.Softmax()(torch.einsum('slg,g->sl', uW, self.u_w) * mask) # Shape: (S, L)\n",
    "        \n",
    "        # Sentence vector\n",
    "        s = torch.einsum('slg,sl->sg', hW, alphaW) # Shape: (S, 2G)\n",
    "        hS,_ = self.SeqEncoder(s) # Sentence annotation. Shape: (S, 2G)\n",
    "        uS = self.SeqMLP(hS) # Sentence hidden representation. Shape: (S, 2G)\n",
    "        \n",
    "        # Attention weight - Needs verifications\n",
    "        alphaS = nn.Softmax()(torch.matmul(uS, self.u_s)) # Shape: (S)\n",
    "        \n",
    "        # Document vector\n",
    "        v = torch.matmul(alphaS, hS)\n",
    "        \n",
    "        logits = self.classifier(v)\n",
    "        \n",
    "        if check_shape:\n",
    "            print(f'Basic shapes: S = {S}, E = {self.E}, L = {L}, G = {self.G}')\n",
    "            print('*********************************')\n",
    "            print('Shape of x:', x.shape)\n",
    "            print('Shape of hW:', hW.shape)\n",
    "            print('Shape of uW:', uW.shape)\n",
    "            print('Shape of alphaW:', alphaW.shape)\n",
    "            print('*********************************')\n",
    "            print('Shape of s:', s.shape)\n",
    "            print('Shape of hS:', hS.shape)\n",
    "            print('Shape of uS:', uS.shape)\n",
    "            print('Shape of alphaS:', alphaS.shape)\n",
    "            print('*********************************')\n",
    "            print('Shape of v:', v.shape)\n",
    "            print('Shape of logits:', logits.shape)\n",
    "        \n",
    "        return logits\n",
    "        "
   ]
  },
  {
   "cell_type": "code",
   "execution_count": 14,
   "id": "84f0bb4a",
   "metadata": {
    "execution": {
     "iopub.execute_input": "2024-06-03T02:06:04.978903Z",
     "iopub.status.busy": "2024-06-03T02:06:04.978383Z",
     "iopub.status.idle": "2024-06-03T02:06:04.982738Z",
     "shell.execute_reply": "2024-06-03T02:06:04.981920Z"
    },
    "papermill": {
     "duration": 0.014581,
     "end_time": "2024-06-03T02:06:04.984484",
     "exception": false,
     "start_time": "2024-06-03T02:06:04.969903",
     "status": "completed"
    },
    "tags": []
   },
   "outputs": [],
   "source": [
    "# Xavier normal initialization\n",
    "def xavier_normal_init(m):\n",
    "    '''\n",
    "    Xavier normal initialization.\n",
    "    '''\n",
    "    if type(m) == nn.Linear or type(m) == nn.Parameter:\n",
    "        print(m)\n",
    "        torch.nn.init.xavier_normal_(m.weight)"
   ]
  },
  {
   "cell_type": "code",
   "execution_count": 15,
   "id": "5b15bbfe",
   "metadata": {
    "execution": {
     "iopub.execute_input": "2024-06-03T02:06:05.001059Z",
     "iopub.status.busy": "2024-06-03T02:06:05.000828Z",
     "iopub.status.idle": "2024-06-03T02:06:05.490450Z",
     "shell.execute_reply": "2024-06-03T02:06:05.489568Z"
    },
    "papermill": {
     "duration": 0.501102,
     "end_time": "2024-06-03T02:06:05.493329",
     "exception": false,
     "start_time": "2024-06-03T02:06:04.992227",
     "status": "completed"
    },
    "tags": []
   },
   "outputs": [
    {
     "name": "stdout",
     "output_type": "stream",
     "text": [
      "*********************************\n",
      "Submodules having Xavier normal initialization:\n",
      "Linear(in_features=100, out_features=100, bias=True)\n",
      "Linear(in_features=100, out_features=100, bias=True)\n",
      "Linear(in_features=100, out_features=2, bias=True)\n",
      "*********************************\n",
      "Basic shapes: S = 13, E = 300, L = 19, G = 50\n",
      "*********************************\n",
      "Shape of x: torch.Size([13, 19, 300])\n",
      "Shape of hW: torch.Size([13, 19, 100])\n",
      "Shape of uW: torch.Size([13, 19, 100])\n",
      "Shape of alphaW: torch.Size([13, 19])\n",
      "*********************************\n",
      "Shape of s: torch.Size([13, 100])\n",
      "Shape of hS: torch.Size([13, 100])\n",
      "Shape of uS: torch.Size([13, 100])\n",
      "Shape of alphaS: torch.Size([13])\n",
      "*********************************\n",
      "Shape of v: torch.Size([100])\n",
      "Shape of logits: torch.Size([2])\n",
      "*********************************\n",
      "HANModel(\n",
      "  (WordEncoder): GRU(300, 50, batch_first=True, bidirectional=True)\n",
      "  (WordMLP): Sequential(\n",
      "    (0): Linear(in_features=100, out_features=100, bias=True)\n",
      "    (1): Tanh()\n",
      "  )\n",
      "  (SeqEncoder): GRU(100, 50, batch_first=True, bidirectional=True)\n",
      "  (SeqMLP): Sequential(\n",
      "    (0): Linear(in_features=100, out_features=100, bias=True)\n",
      "    (1): Tanh()\n",
      "  )\n",
      "  (classifier): Sequential(\n",
      "    (0): Linear(in_features=100, out_features=2, bias=True)\n",
      "    (1): Softmax(dim=None)\n",
      "  )\n",
      ")\n"
     ]
    },
    {
     "name": "stderr",
     "output_type": "stream",
     "text": [
      "/opt/conda/lib/python3.10/site-packages/torch/nn/modules/module.py:1518: UserWarning: Implicit dimension choice for softmax has been deprecated. Change the call to include dim=X as an argument.\n",
      "  return self._call_impl(*args, **kwargs)\n"
     ]
    }
   ],
   "source": [
    "model = HANModel(W_glove, EMBEDDING_DIM, GRU_DIM, NUM_CLASSES).to(DEVICE)\n",
    "print('*********************************')\n",
    "print('Submodules having Xavier normal initialization:')\n",
    "model.apply(xavier_normal_init)\n",
    "print('*********************************')\n",
    "\n",
    "for batch in trainloader:\n",
    "    X, y, mask = batch[0]\n",
    "    X, mask = X.to(DEVICE), mask.to(DEVICE)\n",
    "    logits = model(X, mask, check_shape= True)\n",
    "    break\n",
    "    \n",
    "print('*********************************')\n",
    "print(model)"
   ]
  },
  {
   "cell_type": "markdown",
   "id": "254d8938",
   "metadata": {
    "papermill": {
     "duration": 0.008117,
     "end_time": "2024-06-03T02:06:05.509846",
     "exception": false,
     "start_time": "2024-06-03T02:06:05.501729",
     "status": "completed"
    },
    "tags": []
   },
   "source": [
    "# Training"
   ]
  },
  {
   "cell_type": "code",
   "execution_count": 16,
   "id": "d9a104a4",
   "metadata": {
    "execution": {
     "iopub.execute_input": "2024-06-03T02:06:05.527121Z",
     "iopub.status.busy": "2024-06-03T02:06:05.526811Z",
     "iopub.status.idle": "2024-06-03T02:06:07.243882Z",
     "shell.execute_reply": "2024-06-03T02:06:07.243063Z"
    },
    "papermill": {
     "duration": 1.728189,
     "end_time": "2024-06-03T02:06:07.246075",
     "exception": false,
     "start_time": "2024-06-03T02:06:05.517886",
     "status": "completed"
    },
    "tags": []
   },
   "outputs": [],
   "source": [
    "# Training configs\n",
    "LR = 1e-3\n",
    "MOMENTUM = 0.9\n",
    "EPOCHS = 40\n",
    "ITER = EPOCHS * len(trainloader)\n",
    "OPTIMIZER = torch.optim.Adam(model.parameters(), lr= LR)\n",
    "# OPTIMIZER = torch.optim.SGD(model.parameters(), lr= LR, momentum= MOMENTUM, nesterov= True)\n",
    "SCHEDULER = lr_scheduler = torch.optim.lr_scheduler.CosineAnnealingLR(OPTIMIZER, T_max = ITER)\n",
    "LOSS_FN = nn.CrossEntropyLoss()\n",
    "RECORD = 0.0"
   ]
  },
  {
   "cell_type": "code",
   "execution_count": 17,
   "id": "3af1cda9",
   "metadata": {
    "execution": {
     "iopub.execute_input": "2024-06-03T02:06:07.264318Z",
     "iopub.status.busy": "2024-06-03T02:06:07.263874Z",
     "iopub.status.idle": "2024-06-03T02:06:07.278884Z",
     "shell.execute_reply": "2024-06-03T02:06:07.278066Z"
    },
    "papermill": {
     "duration": 0.026101,
     "end_time": "2024-06-03T02:06:07.280713",
     "exception": false,
     "start_time": "2024-06-03T02:06:07.254612",
     "status": "completed"
    },
    "tags": []
   },
   "outputs": [],
   "source": [
    "# Train procedures\n",
    "def test(testloader, model, loss_fn):\n",
    "    model.eval()\n",
    "    test_loss = 0\n",
    "    correct = 0\n",
    "    bcnt = 0\n",
    "    cnt = 0\n",
    "    \n",
    "    for i, batch in enumerate(testloader):\n",
    "        tmp_loss = 0\n",
    "        cnt += 1\n",
    "        for (X, y, mask) in batch:\n",
    "            if X is None:\n",
    "                continue\n",
    "            bcnt += 1\n",
    "            X, y, mask = X.to(DEVICE), y.to(DEVICE), mask.to(DEVICE)\n",
    "            pred = model(X, mask)\n",
    "            tmp_loss += loss_fn(pred, y).item()\n",
    "            correct += (pred.argmax(0) == y).type(torch.float).sum().item()\n",
    "        tmp_loss /= len(batch)\n",
    "        test_loss += tmp_loss\n",
    "        \n",
    "    test_loss /= len(testloader)\n",
    "    accuracy = correct / len(testloader.dataset)\n",
    "    \n",
    "    return test_loss, accuracy\n",
    "\n",
    "def train(trainloader, valloader, model, optimizer, scheduler, loss_fn, val_freq):\n",
    "    global RECORD\n",
    "    model.train()\n",
    "    tloss = []\n",
    "    cur_acc = 0\n",
    "    for i, batch in enumerate(trainloader):\n",
    "        loss = 0\n",
    "        for (X, y, mask) in batch:\n",
    "            if X is None:\n",
    "                continue\n",
    "            X, y, mask = X.to(DEVICE), y.to(DEVICE), mask.to(DEVICE)\n",
    "            logits = model(X, mask)\n",
    "            loss += loss_fn(logits, y)\n",
    "        loss /= len(batch)\n",
    "        \n",
    "        if val_freq > 0 and i % val_freq == 0:\n",
    "            tloss.append(loss.cpu().detach().numpy())\n",
    "            model.eval()\n",
    "            val_loss, val_acc = test(valloader, model, loss_fn)\n",
    "            model.train()\n",
    "            print(f'Iter {i}, loss = {tloss[-1]}, val_acc = {val_acc}')\n",
    "            if RECORD < val_acc:\n",
    "                RECORD = val_acc\n",
    "                print('Saving model...')\n",
    "                torch.save(model.state_dict(), f'HAN_{val_acc*100}.pth')\n",
    "                torch.save(model.state_dict(), f'HAN_best.pth')\n",
    "        \n",
    "        tloss.append(loss.cpu().detach().numpy())\n",
    "        optimizer.zero_grad()\n",
    "        loss.backward()\n",
    "        optimizer.step()\n",
    "#         scheduler.step()\n",
    "        \n",
    "    model.eval()\n",
    "    val_loss, val_acc = test(valloader, model, loss_fn)\n",
    "    model.train()\n",
    "    print(f'Iter {i}, loss = {tloss[-1]}, val_acc = {val_acc}')\n",
    "    if RECORD < val_acc:\n",
    "        RECORD = val_acc\n",
    "        print('Saving model...')\n",
    "        torch.save(model.state_dict(), f'HAN_{val_acc*100}.pth')\n",
    "        torch.save(model.state_dict(), f'HAN_best.pth')\n",
    "        \n",
    "    return tloss"
   ]
  },
  {
   "cell_type": "code",
   "execution_count": 18,
   "id": "fac85df2",
   "metadata": {
    "execution": {
     "iopub.execute_input": "2024-06-03T02:06:07.297812Z",
     "iopub.status.busy": "2024-06-03T02:06:07.297554Z",
     "iopub.status.idle": "2024-06-03T02:34:07.808398Z",
     "shell.execute_reply": "2024-06-03T02:34:07.807569Z"
    },
    "papermill": {
     "duration": 1680.521703,
     "end_time": "2024-06-03T02:34:07.810460",
     "exception": false,
     "start_time": "2024-06-03T02:06:07.288757",
     "status": "completed"
    },
    "tags": []
   },
   "outputs": [
    {
     "name": "stdout",
     "output_type": "stream",
     "text": [
      "Epoch 0 starts.\n"
     ]
    },
    {
     "name": "stderr",
     "output_type": "stream",
     "text": [
      "/opt/conda/lib/python3.10/site-packages/torch/nn/modules/module.py:1518: UserWarning: Implicit dimension choice for softmax has been deprecated. Change the call to include dim=X as an argument.\n",
      "  return self._call_impl(*args, **kwargs)\n"
     ]
    },
    {
     "name": "stdout",
     "output_type": "stream",
     "text": [
      "Iter 0, loss = 0.701049268245697, val_acc = 0.4971857410881801\n",
      "Saving model...\n",
      "Iter 50, loss = 0.598972737789154, val_acc = 0.6894934333958724\n",
      "Saving model...\n",
      "Iter 100, loss = 0.586572527885437, val_acc = 0.7195121951219512\n",
      "Saving model...\n",
      "Iter 133, loss = 0.561438262462616, val_acc = 0.7326454033771107\n",
      "Saving model...\n",
      "Epoch 0: LOSS = 0.6055139466358798, VAL-ACC = 0.7326454033771107\n",
      "Epoch 1 starts.\n",
      "Iter 0, loss = 0.543951690196991, val_acc = 0.7326454033771107\n",
      "Iter 50, loss = 0.5962928533554077, val_acc = 0.7373358348968105\n",
      "Saving model...\n",
      "Iter 100, loss = 0.5421854853630066, val_acc = 0.7354596622889306\n",
      "Iter 133, loss = 0.4812784790992737, val_acc = 0.7664165103189493\n",
      "Saving model...\n",
      "Epoch 1: LOSS = 0.5393959618832943, VAL-ACC = 0.7664165103189493\n",
      "Epoch 2 starts.\n",
      "Iter 0, loss = 0.4477243721485138, val_acc = 0.7664165103189493\n",
      "Iter 50, loss = 0.5097915530204773, val_acc = 0.7720450281425891\n",
      "Saving model...\n",
      "Iter 100, loss = 0.5046555995941162, val_acc = 0.7429643527204502\n",
      "Iter 133, loss = 0.42232030630111694, val_acc = 0.7617260787992496\n",
      "Epoch 2: LOSS = 0.5043056011199951, VAL-ACC = 0.7617260787992496\n",
      "Epoch 3 starts.\n",
      "Iter 0, loss = 0.46001800894737244, val_acc = 0.7617260787992496\n",
      "Iter 50, loss = 0.48215746879577637, val_acc = 0.7692307692307693\n",
      "Iter 100, loss = 0.4783267080783844, val_acc = 0.776735459662289\n",
      "Saving model...\n",
      "Iter 133, loss = 0.4367285370826721, val_acc = 0.773921200750469\n",
      "Epoch 3: LOSS = 0.4961392783770596, VAL-ACC = 0.773921200750469\n",
      "Epoch 4 starts.\n",
      "Iter 0, loss = 0.4651488959789276, val_acc = 0.773921200750469\n",
      "Iter 50, loss = 0.47267961502075195, val_acc = 0.7786116322701688\n",
      "Saving model...\n",
      "Iter 100, loss = 0.46198898553848267, val_acc = 0.7786116322701688\n",
      "Iter 133, loss = 0.4332651197910309, val_acc = 0.7964352720450282\n",
      "Saving model...\n",
      "Epoch 4: LOSS = 0.48241373679063615, VAL-ACC = 0.7964352720450282\n",
      "Epoch 5 starts.\n",
      "Iter 0, loss = 0.43850386142730713, val_acc = 0.7964352720450282\n",
      "Iter 50, loss = 0.4551227390766144, val_acc = 0.7673545966228893\n",
      "Iter 100, loss = 0.4530630111694336, val_acc = 0.7617260787992496\n",
      "Iter 133, loss = 0.3803853690624237, val_acc = 0.776735459662289\n",
      "Epoch 5: LOSS = 0.4723352787703493, VAL-ACC = 0.776735459662289\n",
      "Epoch 6 starts.\n",
      "Iter 0, loss = 0.43336889147758484, val_acc = 0.776735459662289\n",
      "Iter 50, loss = 0.47172072529792786, val_acc = 0.7729831144465291\n",
      "Iter 100, loss = 0.48780760169029236, val_acc = 0.7729831144465291\n",
      "Iter 133, loss = 0.3951680362224579, val_acc = 0.7589118198874296\n",
      "Epoch 6: LOSS = 0.45593200439084186, VAL-ACC = 0.7589118198874296\n",
      "Epoch 7 starts.\n",
      "Iter 0, loss = 0.5212092995643616, val_acc = 0.7589118198874296\n",
      "Iter 50, loss = 0.48408976197242737, val_acc = 0.7701688555347092\n",
      "Iter 100, loss = 0.49463343620300293, val_acc = 0.7598499061913696\n",
      "Iter 133, loss = 0.3847150206565857, val_acc = 0.7589118198874296\n",
      "Epoch 7: LOSS = 0.4744847401650283, VAL-ACC = 0.7589118198874296\n",
      "Epoch 8 starts.\n",
      "Iter 0, loss = 0.47264742851257324, val_acc = 0.7589118198874296\n",
      "Iter 50, loss = 0.45718953013420105, val_acc = 0.774859287054409\n",
      "Iter 100, loss = 0.43584802746772766, val_acc = 0.7804878048780488\n",
      "Iter 133, loss = 0.4283936619758606, val_acc = 0.7786116322701688\n",
      "Epoch 8: LOSS = 0.45949726796498264, VAL-ACC = 0.7786116322701688\n",
      "Epoch 9 starts.\n",
      "Iter 0, loss = 0.3923001289367676, val_acc = 0.7786116322701688\n",
      "Iter 50, loss = 0.4316580295562744, val_acc = 0.7598499061913696\n",
      "Iter 100, loss = 0.4553338587284088, val_acc = 0.773921200750469\n",
      "Iter 133, loss = 0.4106121063232422, val_acc = 0.7607879924953096\n",
      "Epoch 9: LOSS = 0.4458342000950862, VAL-ACC = 0.7607879924953096\n",
      "Epoch 10 starts.\n",
      "Iter 0, loss = 0.420421838760376, val_acc = 0.7607879924953096\n",
      "Iter 50, loss = 0.42636293172836304, val_acc = 0.773921200750469\n",
      "Iter 100, loss = 0.388954758644104, val_acc = 0.7701688555347092\n",
      "Iter 133, loss = 0.37277472019195557, val_acc = 0.7682926829268293\n",
      "Epoch 10: LOSS = 0.43576150110168177, VAL-ACC = 0.7682926829268293\n",
      "Epoch 11 starts.\n",
      "Iter 0, loss = 0.4328412413597107, val_acc = 0.7682926829268293\n",
      "Iter 50, loss = 0.47359898686408997, val_acc = 0.7729831144465291\n",
      "Iter 100, loss = 0.4058248996734619, val_acc = 0.7682926829268293\n",
      "Iter 133, loss = 0.41617658734321594, val_acc = 0.7692307692307693\n",
      "Epoch 11: LOSS = 0.4300991977653364, VAL-ACC = 0.7692307692307693\n",
      "Epoch 12 starts.\n",
      "Iter 0, loss = 0.43759816884994507, val_acc = 0.7692307692307693\n",
      "Iter 50, loss = 0.4282129108905792, val_acc = 0.7729831144465291\n",
      "Iter 100, loss = 0.4064245820045471, val_acc = 0.7720450281425891\n",
      "Iter 133, loss = 0.3744983673095703, val_acc = 0.7673545966228893\n",
      "Epoch 12: LOSS = 0.4202381692228526, VAL-ACC = 0.7673545966228893\n",
      "Epoch 13 starts.\n",
      "Iter 0, loss = 0.45839208364486694, val_acc = 0.7673545966228893\n",
      "Iter 50, loss = 0.4558084011077881, val_acc = 0.774859287054409\n",
      "Iter 100, loss = 0.38271990418434143, val_acc = 0.7814258911819888\n",
      "Iter 133, loss = 0.3722721338272095, val_acc = 0.7889305816135085\n",
      "Epoch 13: LOSS = 0.41808166164551336, VAL-ACC = 0.7889305816135085\n",
      "Epoch 14 starts.\n",
      "Iter 0, loss = 0.43269261717796326, val_acc = 0.7889305816135085\n",
      "Iter 50, loss = 0.40704143047332764, val_acc = 0.7729831144465291\n",
      "Iter 100, loss = 0.4184255003929138, val_acc = 0.7523452157598499\n",
      "Iter 133, loss = 0.3721928298473358, val_acc = 0.7626641651031895\n",
      "Epoch 14: LOSS = 0.4380396310865444, VAL-ACC = 0.7626641651031895\n",
      "Epoch 15 starts.\n",
      "Iter 0, loss = 0.4695630669593811, val_acc = 0.7626641651031895\n",
      "Iter 50, loss = 0.46287137269973755, val_acc = 0.7673545966228893\n",
      "Iter 100, loss = 0.43951767683029175, val_acc = 0.7720450281425891\n",
      "Iter 133, loss = 0.42989814281463623, val_acc = 0.7814258911819888\n",
      "Epoch 15: LOSS = 0.4502558277471222, VAL-ACC = 0.7814258911819888\n",
      "Epoch 16 starts.\n",
      "Iter 0, loss = 0.4191508889198303, val_acc = 0.7814258911819888\n",
      "Iter 50, loss = 0.37908223271369934, val_acc = 0.7823639774859287\n",
      "Iter 100, loss = 0.39496827125549316, val_acc = 0.7795497185741088\n",
      "Iter 133, loss = 0.4184871017932892, val_acc = 0.774859287054409\n",
      "Epoch 16: LOSS = 0.4261281335875936, VAL-ACC = 0.774859287054409\n",
      "Epoch 17 starts.\n",
      "Iter 0, loss = 0.40841954946517944, val_acc = 0.774859287054409\n",
      "Iter 50, loss = 0.41902396082878113, val_acc = 0.7701688555347092\n",
      "Iter 100, loss = 0.3918020725250244, val_acc = 0.774859287054409\n",
      "Iter 133, loss = 0.37220755219459534, val_acc = 0.7814258911819888\n",
      "Epoch 17: LOSS = 0.41292663669064095, VAL-ACC = 0.7814258911819888\n",
      "Epoch 18 starts.\n",
      "Iter 0, loss = 0.3976980149745941, val_acc = 0.7814258911819888\n",
      "Iter 50, loss = 0.41222262382507324, val_acc = 0.7682926829268293\n",
      "Iter 100, loss = 0.42265450954437256, val_acc = 0.7636022514071295\n",
      "Iter 133, loss = 0.3720991611480713, val_acc = 0.7701688555347092\n",
      "Epoch 18: LOSS = 0.4176116322513914, VAL-ACC = 0.7701688555347092\n",
      "Epoch 19 starts.\n",
      "Iter 0, loss = 0.36722996830940247, val_acc = 0.7701688555347092\n",
      "Iter 50, loss = 0.39611750841140747, val_acc = 0.7720450281425891\n",
      "Iter 100, loss = 0.39073890447616577, val_acc = 0.7682926829268293\n",
      "Iter 133, loss = 0.37222135066986084, val_acc = 0.7823639774859287\n",
      "Epoch 19: LOSS = 0.40968797546233576, VAL-ACC = 0.7823639774859287\n",
      "Epoch 20 starts.\n",
      "Iter 0, loss = 0.36131903529167175, val_acc = 0.7823639774859287\n",
      "Iter 50, loss = 0.38097843527793884, val_acc = 0.7776735459662288\n",
      "Iter 100, loss = 0.39733195304870605, val_acc = 0.773921200750469\n",
      "Iter 133, loss = 0.37213972210884094, val_acc = 0.774859287054409\n",
      "Epoch 20: LOSS = 0.4004497360574068, VAL-ACC = 0.774859287054409\n",
      "Epoch 21 starts.\n",
      "Iter 0, loss = 0.3605649173259735, val_acc = 0.774859287054409\n",
      "Iter 50, loss = 0.40474164485931396, val_acc = 0.775797373358349\n",
      "Iter 100, loss = 0.4149957299232483, val_acc = 0.7692307692307693\n",
      "Iter 133, loss = 0.3721126616001129, val_acc = 0.775797373358349\n",
      "Epoch 21: LOSS = 0.404119101536535, VAL-ACC = 0.775797373358349\n",
      "Epoch 22 starts.\n",
      "Iter 0, loss = 0.37532466650009155, val_acc = 0.775797373358349\n",
      "Iter 50, loss = 0.36880141496658325, val_acc = 0.7870544090056285\n",
      "Iter 100, loss = 0.3850365877151489, val_acc = 0.776735459662289\n",
      "Iter 133, loss = 0.37212568521499634, val_acc = 0.7842401500938087\n",
      "Epoch 22: LOSS = 0.3957330534492966, VAL-ACC = 0.7842401500938087\n",
      "Epoch 23 starts.\n",
      "Iter 0, loss = 0.37148743867874146, val_acc = 0.7842401500938087\n",
      "Iter 50, loss = 0.37195077538490295, val_acc = 0.773921200750469\n",
      "Iter 100, loss = 0.37623289227485657, val_acc = 0.7711069418386491\n",
      "Iter 133, loss = 0.36488303542137146, val_acc = 0.7711069418386491\n",
      "Epoch 23: LOSS = 0.3952893562560534, VAL-ACC = 0.7711069418386491\n",
      "Epoch 24 starts.\n",
      "Iter 0, loss = 0.3442319333553314, val_acc = 0.7711069418386491\n",
      "Iter 50, loss = 0.36015963554382324, val_acc = 0.7729831144465291\n",
      "Iter 100, loss = 0.3632381558418274, val_acc = 0.7711069418386491\n",
      "Iter 133, loss = 0.3132711946964264, val_acc = 0.7729831144465291\n",
      "Epoch 24: LOSS = 0.3921583882213509, VAL-ACC = 0.7729831144465291\n",
      "Epoch 25 starts.\n",
      "Iter 0, loss = 0.37533992528915405, val_acc = 0.7729831144465291\n",
      "Iter 50, loss = 0.36791014671325684, val_acc = 0.773921200750469\n",
      "Iter 100, loss = 0.3760471045970917, val_acc = 0.776735459662289\n",
      "Iter 133, loss = 0.3132637143135071, val_acc = 0.7711069418386491\n",
      "Epoch 25: LOSS = 0.3865627470242716, VAL-ACC = 0.7711069418386491\n",
      "Epoch 26 starts.\n",
      "Iter 0, loss = 0.34529805183410645, val_acc = 0.7711069418386491\n",
      "Iter 50, loss = 0.3913640081882477, val_acc = 0.7673545966228893\n",
      "Iter 100, loss = 0.3730275332927704, val_acc = 0.7814258911819888\n",
      "Iter 133, loss = 0.31348538398742676, val_acc = 0.776735459662289\n",
      "Epoch 26: LOSS = 0.41447141331477755, VAL-ACC = 0.776735459662289\n",
      "Epoch 27 starts.\n",
      "Iter 0, loss = 0.3477519750595093, val_acc = 0.776735459662289\n",
      "Iter 50, loss = 0.3603174090385437, val_acc = 0.774859287054409\n",
      "Iter 100, loss = 0.4049178659915924, val_acc = 0.7786116322701688\n",
      "Iter 133, loss = 0.3141017258167267, val_acc = 0.7729831144465291\n",
      "Epoch 27: LOSS = 0.392906085853159, VAL-ACC = 0.7729831144465291\n",
      "Epoch 28 starts.\n",
      "Iter 0, loss = 0.34030407667160034, val_acc = 0.7729831144465291\n",
      "Iter 50, loss = 0.360746830701828, val_acc = 0.775797373358349\n",
      "Iter 100, loss = 0.3840414881706238, val_acc = 0.7729831144465291\n",
      "Iter 133, loss = 0.3204578459262848, val_acc = 0.7636022514071295\n",
      "Epoch 28: LOSS = 0.3834787940021849, VAL-ACC = 0.7636022514071295\n",
      "Epoch 29 starts.\n",
      "Iter 0, loss = 0.3291352391242981, val_acc = 0.7636022514071295\n",
      "Iter 50, loss = 0.36485981941223145, val_acc = 0.7645403377110694\n",
      "Iter 100, loss = 0.37598544359207153, val_acc = 0.775797373358349\n",
      "Iter 133, loss = 0.3132862150669098, val_acc = 0.7711069418386491\n",
      "Epoch 29: LOSS = 0.37933149651019243, VAL-ACC = 0.7711069418386491\n",
      "Epoch 30 starts.\n",
      "Iter 0, loss = 0.3461296558380127, val_acc = 0.7711069418386491\n",
      "Iter 50, loss = 0.36259856820106506, val_acc = 0.7645403377110694\n",
      "Iter 100, loss = 0.38216036558151245, val_acc = 0.7673545966228893\n",
      "Iter 133, loss = 0.313268780708313, val_acc = 0.7701688555347092\n",
      "Epoch 30: LOSS = 0.37592968366441937, VAL-ACC = 0.7701688555347092\n",
      "Epoch 31 starts.\n",
      "Iter 0, loss = 0.3291686177253723, val_acc = 0.7701688555347092\n",
      "Iter 50, loss = 0.38149505853652954, val_acc = 0.7645403377110694\n",
      "Iter 100, loss = 0.3777150511741638, val_acc = 0.7673545966228893\n",
      "Iter 133, loss = 0.3132627308368683, val_acc = 0.7654784240150094\n",
      "Epoch 31: LOSS = 0.37740280919701513, VAL-ACC = 0.7654784240150094\n",
      "Epoch 32 starts.\n",
      "Iter 0, loss = 0.3551200032234192, val_acc = 0.7654784240150094\n",
      "Iter 50, loss = 0.37419506907463074, val_acc = 0.7711069418386491\n",
      "Iter 100, loss = 0.37708762288093567, val_acc = 0.7692307692307693\n",
      "Iter 133, loss = 0.31326770782470703, val_acc = 0.7701688555347092\n",
      "Epoch 32: LOSS = 0.37272244104503716, VAL-ACC = 0.7701688555347092\n",
      "Epoch 33 starts.\n",
      "Iter 0, loss = 0.3294742703437805, val_acc = 0.7701688555347092\n",
      "Iter 50, loss = 0.3728095293045044, val_acc = 0.7673545966228893\n",
      "Iter 100, loss = 0.37595614790916443, val_acc = 0.7776735459662288\n",
      "Iter 133, loss = 0.3135368227958679, val_acc = 0.7776735459662288\n",
      "Epoch 33: LOSS = 0.3763652946392115, VAL-ACC = 0.7776735459662288\n",
      "Epoch 34 starts.\n",
      "Iter 0, loss = 0.3407398760318756, val_acc = 0.7776735459662288\n",
      "Iter 50, loss = 0.39582520723342896, val_acc = 0.7823639774859287\n",
      "Iter 100, loss = 0.3758314549922943, val_acc = 0.7795497185741088\n",
      "Iter 133, loss = 0.31333255767822266, val_acc = 0.7729831144465291\n",
      "Epoch 34: LOSS = 0.3797783122880615, VAL-ACC = 0.7729831144465291\n",
      "Epoch 35 starts.\n",
      "Iter 0, loss = 0.3370340168476105, val_acc = 0.7729831144465291\n",
      "Iter 50, loss = 0.37595000863075256, val_acc = 0.774859287054409\n",
      "Iter 100, loss = 0.375906765460968, val_acc = 0.774859287054409\n",
      "Iter 133, loss = 0.3449135422706604, val_acc = 0.7645403377110694\n",
      "Epoch 35: LOSS = 0.3752810711408184, VAL-ACC = 0.7645403377110694\n",
      "Epoch 36 starts.\n",
      "Iter 0, loss = 0.3507138788700104, val_acc = 0.7645403377110694\n",
      "Iter 50, loss = 0.4034387767314911, val_acc = 0.7654784240150094\n",
      "Iter 100, loss = 0.3761315643787384, val_acc = 0.7692307692307693\n",
      "Iter 133, loss = 0.3133157789707184, val_acc = 0.7626641651031895\n",
      "Epoch 36: LOSS = 0.38756401282157343, VAL-ACC = 0.7626641651031895\n",
      "Epoch 37 starts.\n",
      "Iter 0, loss = 0.36015790700912476, val_acc = 0.7626641651031895\n",
      "Iter 50, loss = 0.36963963508605957, val_acc = 0.7786116322701688\n",
      "Iter 100, loss = 0.37675872445106506, val_acc = 0.7729831144465291\n",
      "Iter 133, loss = 0.31326478719711304, val_acc = 0.7786116322701688\n",
      "Epoch 37: LOSS = 0.3790395231577602, VAL-ACC = 0.7786116322701688\n",
      "Epoch 38 starts.\n",
      "Iter 0, loss = 0.35411787033081055, val_acc = 0.7786116322701688\n",
      "Iter 50, loss = 0.37555384635925293, val_acc = 0.774859287054409\n",
      "Iter 100, loss = 0.3758673071861267, val_acc = 0.7682926829268293\n",
      "Iter 133, loss = 0.3132660388946533, val_acc = 0.776735459662289\n",
      "Epoch 38: LOSS = 0.3706435722156163, VAL-ACC = 0.776735459662289\n",
      "Epoch 39 starts.\n",
      "Iter 0, loss = 0.3334774672985077, val_acc = 0.776735459662289\n",
      "Iter 50, loss = 0.4076772630214691, val_acc = 0.7682926829268293\n",
      "Iter 100, loss = 0.3932686448097229, val_acc = 0.7692307692307693\n",
      "Iter 133, loss = 0.3133992850780487, val_acc = 0.7701688555347092\n",
      "Epoch 39: LOSS = 0.37715407749162105, VAL-ACC = 0.7701688555347092\n"
     ]
    },
    {
     "data": {
      "image/png": "[encoded data removed]",
      "text/plain": [
       "<Figure size 640x480 with 1 Axes>"
      ]
     },
     "metadata": {},
     "output_type": "display_data"
    }
   ],
   "source": [
    "# TRAINING\n",
    "iter_loss = []\n",
    "epoch_loss = []\n",
    "best_acc = 0\n",
    "\n",
    "for t in range(EPOCHS):\n",
    "    print(f'Epoch {t} starts.')\n",
    "    tloss = train(trainloader, valloader, model, OPTIMIZER, SCHEDULER, LOSS_FN, 50)\n",
    "    val_loss, val_acc = test(valloader, model, LOSS_FN)\n",
    "    \n",
    "    iter_loss = iter_loss + tloss\n",
    "    epoch_loss.append(sum(tloss) / len(tloss))\n",
    "    \n",
    "    print(f'Epoch {t}: LOSS = {epoch_loss[-1]}, VAL-ACC = {val_acc}')\n",
    "    \n",
    "torch.save(model.state_dict(), f'HAN_last.pth')\n",
    "    \n",
    "fig, axes = plt.subplots()\n",
    "axes.plot(epoch_loss, label = 'train-loss')\n",
    "axes.legend()\n",
    "axes.set_xlabel('Iteration')\n",
    "axes.set_ylabel('Loss')\n",
    "plt.show()"
   ]
  },
  {
   "cell_type": "code",
   "execution_count": 19,
   "id": "2fc977ad",
   "metadata": {
    "execution": {
     "iopub.execute_input": "2024-06-03T02:34:07.860341Z",
     "iopub.status.busy": "2024-06-03T02:34:07.860048Z",
     "iopub.status.idle": "2024-06-03T02:34:10.036190Z",
     "shell.execute_reply": "2024-06-03T02:34:10.034897Z"
    },
    "papermill": {
     "duration": 2.204552,
     "end_time": "2024-06-03T02:34:10.039413",
     "exception": false,
     "start_time": "2024-06-03T02:34:07.834861",
     "status": "completed"
    },
    "tags": []
   },
   "outputs": [
    {
     "name": "stdout",
     "output_type": "stream",
     "text": [
      "(LAST) Test accuracy: 0.7806935332708529\n"
     ]
    }
   ],
   "source": [
    "_, val_acc = test(testloader, model, LOSS_FN)\n",
    "print(f'(LAST) Test accuracy: {val_acc}')"
   ]
  },
  {
   "cell_type": "code",
   "execution_count": 20,
   "id": "3bd2ca9b",
   "metadata": {
    "execution": {
     "iopub.execute_input": "2024-06-03T02:34:10.096140Z",
     "iopub.status.busy": "2024-06-03T02:34:10.095213Z",
     "iopub.status.idle": "2024-06-03T02:34:12.243521Z",
     "shell.execute_reply": "2024-06-03T02:34:12.242448Z"
    },
    "papermill": {
     "duration": 2.178691,
     "end_time": "2024-06-03T02:34:12.245643",
     "exception": false,
     "start_time": "2024-06-03T02:34:10.066952",
     "status": "completed"
    },
    "tags": []
   },
   "outputs": [
    {
     "name": "stdout",
     "output_type": "stream",
     "text": [
      "(BEST) Test accuracy: 0.7525773195876289\n"
     ]
    }
   ],
   "source": [
    "model.load_state_dict(torch.load('HAN_best.pth', map_location= DEVICE))\n",
    "_, val_acc = test(testloader, model, LOSS_FN)\n",
    "print(f'(BEST) Test accuracy: {val_acc}')"
   ]
  }
 ],
 "metadata": {
  "kaggle": {
   "accelerator": "none",
   "dataSources": [
    {
     "datasetId": 1835,
     "sourceId": 3176,
     "sourceType": "datasetVersion"
    },
    {
     "datasetId": 10100,
     "sourceId": 3316532,
     "sourceType": "datasetVersion"
    },
    {
     "datasetId": 2546760,
     "sourceId": 4345109,
     "sourceType": "datasetVersion"
    },
    {
     "datasetId": 4741673,
     "sourceId": 8053014,
     "sourceType": "datasetVersion"
    },
    {
     "datasetId": 5093015,
     "sourceId": 8528311,
     "sourceType": "datasetVersion"
    }
   ],
   "dockerImageVersionId": 30673,
   "isGpuEnabled": false,
   "isInternetEnabled": true,
   "language": "python",
   "sourceType": "notebook"
  },
  "kernelspec": {
   "display_name": "Python 3",
   "language": "python",
   "name": "python3"
  },
  "language_info": {
   "codemirror_mode": {
    "name": "ipython",
    "version": 3
   },
   "file_extension": ".py",
   "mimetype": "text/x-python",
   "name": "python",
   "nbconvert_exporter": "python",
   "pygments_lexer": "ipython3",
   "version": "3.10.13"
  },
  "papermill": {
   "default_parameters": {},
   "duration": 1947.230451,
   "end_time": "2024-06-03T02:34:15.496082",
   "environment_variables": {},
   "exception": null,
   "input_path": "__notebook__.ipynb",
   "output_path": "__notebook__.ipynb",
   "parameters": {},
   "start_time": "2024-06-03T02:01:48.265631",
   "version": "2.5.0"
  }
 },
 "nbformat": 4,
 "nbformat_minor": 5
}
