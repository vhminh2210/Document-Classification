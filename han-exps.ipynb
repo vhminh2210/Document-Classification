{
 "cells": [
  {
   "cell_type": "markdown",
   "id": "672ff567",
   "metadata": {
    "_cell_guid": "b1076dfc-b9ad-4769-8c92-a6c4dae69d19",
    "_uuid": "8f2839f25d086af736a60e9eeb907d3b93b6e0e5",
    "execution": {
     "iopub.execute_input": "2024-04-07T04:41:24.877131Z",
     "iopub.status.busy": "2024-04-07T04:41:24.876742Z",
     "iopub.status.idle": "2024-04-07T04:41:24.883841Z",
     "shell.execute_reply": "2024-04-07T04:41:24.882762Z",
     "shell.execute_reply.started": "2024-04-07T04:41:24.877104Z"
    },
    "papermill": {
     "duration": 0.009443,
     "end_time": "2024-04-19T04:05:05.225524",
     "exception": false,
     "start_time": "2024-04-19T04:05:05.216081",
     "status": "completed"
    },
    "tags": []
   },
   "source": [
    "# Hierarchical Attention Networks for Document Classification\n",
    "PyTorch implementation of **Hierarchical Attention Networks for Document Classification (NAACL 2016)**\n",
    "\n",
    "# Table of Contents\n",
    "* [Preamble](#Preamble)\n",
    "* [Word2Vec Module](#Word2Vec-Module)\n",
    "* [Load Vocabulary and Embeddings](#Load-Vocabulary-and-Embeddings)\n",
    "    * [Negative sampling](#Negative-sampling)\n",
    "    * [GloVe](#GloVe)\n",
    "* [PyTorch Dataset class](#PyTorch-Dataset-class)\n",
    "* [HAN Model](#HAN-Model)\n",
    "* [Training](#Training)"
   ]
  },
  {
   "cell_type": "markdown",
   "id": "44e7fd58",
   "metadata": {
    "papermill": {
     "duration": 0.008815,
     "end_time": "2024-04-19T04:05:05.243360",
     "exception": false,
     "start_time": "2024-04-19T04:05:05.234545",
     "status": "completed"
    },
    "tags": []
   },
   "source": [
    "# Preamble"
   ]
  },
  {
   "cell_type": "code",
   "execution_count": 1,
   "id": "157f6493",
   "metadata": {
    "execution": {
     "iopub.execute_input": "2024-04-19T04:05:05.262275Z",
     "iopub.status.busy": "2024-04-19T04:05:05.261820Z",
     "iopub.status.idle": "2024-04-19T04:05:10.299055Z",
     "shell.execute_reply": "2024-04-19T04:05:10.297890Z"
    },
    "papermill": {
     "duration": 5.049885,
     "end_time": "2024-04-19T04:05:10.301939",
     "exception": false,
     "start_time": "2024-04-19T04:05:05.252054",
     "status": "completed"
    },
    "tags": []
   },
   "outputs": [],
   "source": [
    "# Preamble\n",
    "import time, random\n",
    "import re, string\n",
    "import os, sys\n",
    "import math\n",
    "import json\n",
    "\n",
    "import numpy as np\n",
    "import pandas as pd\n",
    "import matplotlib.pyplot as plt\n",
    "\n",
    "import torch\n",
    "import torch.nn as nn\n",
    "from torch.utils.data import Dataset, DataLoader\n",
    "import torch.nn.functional as F\n",
    "\n",
    "from tqdm import tqdm\n",
    "\n",
    "DEVICE = torch.device(\"cuda:0\" if torch.cuda.is_available() else \"cpu\")\n",
    "BATCH_SIZE = 64"
   ]
  },
  {
   "cell_type": "markdown",
   "id": "62ba050f",
   "metadata": {
    "papermill": {
     "duration": 0.008605,
     "end_time": "2024-04-19T04:05:10.319672",
     "exception": false,
     "start_time": "2024-04-19T04:05:10.311067",
     "status": "completed"
    },
    "tags": []
   },
   "source": [
    "# Word2Vec Module\n",
    "Following the original paper, we trained the word embeddings using *Negative sampling* technique introduced in **Distributed Representations of Words and Phrases and their Compositionality (NIPS 2013)**"
   ]
  },
  {
   "cell_type": "code",
   "execution_count": 2,
   "id": "a88434fb",
   "metadata": {
    "execution": {
     "iopub.execute_input": "2024-04-19T04:05:10.339553Z",
     "iopub.status.busy": "2024-04-19T04:05:10.338684Z",
     "iopub.status.idle": "2024-04-19T04:05:10.353053Z",
     "shell.execute_reply": "2024-04-19T04:05:10.351899Z"
    },
    "papermill": {
     "duration": 0.026886,
     "end_time": "2024-04-19T04:05:10.355407",
     "exception": false,
     "start_time": "2024-04-19T04:05:10.328521",
     "status": "completed"
    },
    "tags": []
   },
   "outputs": [],
   "source": [
    "# Negative sampling embedding module\n",
    "class NegSamplingEmbedding(nn.Module):\n",
    "    '''\n",
    "    Vocab_size: V\n",
    "    Embedding_size: E\n",
    "    Text_length: L\n",
    "    Batch_size: B\n",
    "    \n",
    "    Consult: https://github.com/mindspore-courses/DeepNLP-models-MindSpore/\n",
    "            blob/main/notebooks/02.Skip-gram-Negative-Sampling.ipynb\n",
    "    '''\n",
    "    def __init__(self, vocab_size, embedding_size):\n",
    "        super(NegSamplingEmbedding, self).__init__()\n",
    "        self.U = nn.Embedding(vocab_size, embedding_size) # Center embedding\n",
    "        self.V = nn.Embedding(vocab_size, embedding_size) # Outside embedding\n",
    "        self.LogSig = nn.LogSigmoid()\n",
    "        \n",
    "    def forward(self, wc, wo, wk, mask_c, mask_o, check_shape= False):\n",
    "        vc = self.V(wc) # Center embedding. Shape: (B, L, E)\n",
    "        uo = self.U(wo) # Outside embedding. Shape: (B, L, C, E)\n",
    "        uk = self.U(wk) # Random embedding. Shape: (B, L, C, E, K)\n",
    "        \n",
    "        if check_shape:\n",
    "            B = uk.shape[0]\n",
    "            L = uk.shape[1]\n",
    "            C = uk.shape[2]\n",
    "            K = uk.shape[3]\n",
    "            E = uk.shape[4]\n",
    "            print(f\"Basic shapes: B = {B}; L = {L}; C = {C}; K = {K}; E = {E}\")\n",
    "            print('*********************************')\n",
    "            print('Shape of vc:', vc.shape)\n",
    "            print('Shape of uo:', uo.shape)\n",
    "            print('Shape of uk:', uk.shape)\n",
    "            print('*********************************')\n",
    "        cmp1 = torch.einsum('blce,ble->blc', uo, vc) # Shape: (B, L, C)\n",
    "        cmp2 = torch.einsum('blcke,ble->blck', uk, vc) # Shape: (B, L, C, K)\n",
    "        \n",
    "        cmp1 = self.LogSig(cmp1) * mask_o # Shape: (B, L, C)\n",
    "        cmp2 = self.LogSig(-cmp2) # Shape: (B, L, C, K)\n",
    "        cmp2 = torch.einsum('blck->blc', cmp2) * mask_o # Shape: (B, L, C)\n",
    "    \n",
    "        cmp1 = torch.einsum('blc->bl', cmp1) # Shape: (B, L)\n",
    "        cmp2 = torch.einsum('blc->bl', cmp2) # Shape: (B, L)\n",
    "        \n",
    "        loss = torch.mean(cmp1 + cmp2)\n",
    "        \n",
    "        if check_shape:\n",
    "            print('Shape of cmp1:', cmp1.shape)\n",
    "            print('Shape of cmp2:', cmp2.shape)\n",
    "            print('Shape of LOSS:', loss.shape)\n",
    "        return -loss"
   ]
  },
  {
   "cell_type": "markdown",
   "id": "57d1401c",
   "metadata": {
    "papermill": {
     "duration": 0.008571,
     "end_time": "2024-04-19T04:05:10.373036",
     "exception": false,
     "start_time": "2024-04-19T04:05:10.364465",
     "status": "completed"
    },
    "tags": []
   },
   "source": [
    "# Load Vocabulary and Embeddings"
   ]
  },
  {
   "cell_type": "code",
   "execution_count": 3,
   "id": "b19316f6",
   "metadata": {
    "execution": {
     "iopub.execute_input": "2024-04-19T04:05:10.392704Z",
     "iopub.status.busy": "2024-04-19T04:05:10.391887Z",
     "iopub.status.idle": "2024-04-19T04:05:10.396535Z",
     "shell.execute_reply": "2024-04-19T04:05:10.395498Z"
    },
    "papermill": {
     "duration": 0.016943,
     "end_time": "2024-04-19T04:05:10.398841",
     "exception": false,
     "start_time": "2024-04-19T04:05:10.381898",
     "status": "completed"
    },
    "tags": []
   },
   "outputs": [],
   "source": [
    "# Embedding type. 'glove' or 'negative_sampling'\n",
    "MODE = 'glove'"
   ]
  },
  {
   "cell_type": "markdown",
   "id": "fb2affeb",
   "metadata": {
    "papermill": {
     "duration": 0.009962,
     "end_time": "2024-04-19T04:05:10.417552",
     "exception": false,
     "start_time": "2024-04-19T04:05:10.407590",
     "status": "completed"
    },
    "tags": []
   },
   "source": [
    "## Negative sampling\n",
    "Here we load the pretrained vocab and embeddings constructed using **Negative Sampling.**"
   ]
  },
  {
   "cell_type": "code",
   "execution_count": 4,
   "id": "7b09a15c",
   "metadata": {
    "execution": {
     "iopub.execute_input": "2024-04-19T04:05:10.436814Z",
     "iopub.status.busy": "2024-04-19T04:05:10.436436Z",
     "iopub.status.idle": "2024-04-19T04:05:12.181137Z",
     "shell.execute_reply": "2024-04-19T04:05:12.180185Z"
    },
    "papermill": {
     "duration": 1.757404,
     "end_time": "2024-04-19T04:05:12.183774",
     "exception": false,
     "start_time": "2024-04-19T04:05:10.426370",
     "status": "completed"
    },
    "tags": []
   },
   "outputs": [],
   "source": [
    "# Prepare vocab, counter, tokenizer\n",
    "from torchtext.data.utils import get_tokenizer\n",
    "from torchtext.vocab import vocab, build_vocab_from_iterator\n",
    "\n",
    "from collections import Counter\n",
    "\n",
    "tokenizer = get_tokenizer(\"basic_english\")\n",
    "\n",
    "vocab_ns = torch.load('/kaggle/input/hlt-word2vec/vocab.pth')"
   ]
  },
  {
   "cell_type": "code",
   "execution_count": 5,
   "id": "c3d251ff",
   "metadata": {
    "execution": {
     "iopub.execute_input": "2024-04-19T04:05:12.203320Z",
     "iopub.status.busy": "2024-04-19T04:05:12.202728Z",
     "iopub.status.idle": "2024-04-19T04:05:12.209435Z",
     "shell.execute_reply": "2024-04-19T04:05:12.208426Z"
    },
    "papermill": {
     "duration": 0.019111,
     "end_time": "2024-04-19T04:05:12.211759",
     "exception": false,
     "start_time": "2024-04-19T04:05:12.192648",
     "status": "completed"
    },
    "tags": []
   },
   "outputs": [],
   "source": [
    "# Task configs\n",
    "VOCAB_SIZE = len(vocab_ns)\n",
    "EMBEDDING_DIM = 200\n",
    "GRU_DIM = 50\n",
    "NUM_CLASSES = 5"
   ]
  },
  {
   "cell_type": "code",
   "execution_count": 6,
   "id": "8bff869c",
   "metadata": {
    "execution": {
     "iopub.execute_input": "2024-04-19T04:05:12.231642Z",
     "iopub.status.busy": "2024-04-19T04:05:12.230877Z",
     "iopub.status.idle": "2024-04-19T04:05:15.156051Z",
     "shell.execute_reply": "2024-04-19T04:05:15.155008Z"
    },
    "papermill": {
     "duration": 2.93792,
     "end_time": "2024-04-19T04:05:15.158858",
     "exception": false,
     "start_time": "2024-04-19T04:05:12.220938",
     "status": "completed"
    },
    "tags": []
   },
   "outputs": [],
   "source": [
    "# Prepare word embeddings\n",
    "WORD2VEC_PATH = '/kaggle/input/hlt-word2vec/word2vec.pth'\n",
    "word2vec = NegSamplingEmbedding(VOCAB_SIZE, EMBEDDING_DIM)\n",
    "word2vec.load_state_dict(torch.load(WORD2VEC_PATH, map_location= DEVICE))\n",
    "word2vec.eval()\n",
    "\n",
    "W_e = word2vec.V.weight.detach().to(DEVICE)"
   ]
  },
  {
   "cell_type": "markdown",
   "id": "362a6162",
   "metadata": {
    "papermill": {
     "duration": 0.008965,
     "end_time": "2024-04-19T04:05:15.177109",
     "exception": false,
     "start_time": "2024-04-19T04:05:15.168144",
     "status": "completed"
    },
    "tags": []
   },
   "source": [
    "## GloVe\n",
    "Here we import pretrained word embeddings **GloVe**. We plan on evaluating HAN using GloVe 6B $(D = 200)$ and GloVe 42B $(D = 300)$."
   ]
  },
  {
   "cell_type": "code",
   "execution_count": 7,
   "id": "0e1c5044",
   "metadata": {
    "execution": {
     "iopub.execute_input": "2024-04-19T04:05:15.197029Z",
     "iopub.status.busy": "2024-04-19T04:05:15.196279Z",
     "iopub.status.idle": "2024-04-19T04:05:15.202427Z",
     "shell.execute_reply": "2024-04-19T04:05:15.201242Z"
    },
    "papermill": {
     "duration": 0.018541,
     "end_time": "2024-04-19T04:05:15.204657",
     "exception": false,
     "start_time": "2024-04-19T04:05:15.186116",
     "status": "completed"
    },
    "tags": []
   },
   "outputs": [],
   "source": [
    "# Double check vocab - embedding matching\n",
    "def arr_equal_check(arr1, arr2):\n",
    "    if len(arr1) != len(arr2):\n",
    "        return False\n",
    "    \n",
    "    for i in range(len(arr1)):\n",
    "        if arr1[i] != arr2[i]:\n",
    "            return False\n",
    "        \n",
    "    return True"
   ]
  },
  {
   "cell_type": "code",
   "execution_count": 8,
   "id": "92ef9884",
   "metadata": {
    "execution": {
     "iopub.execute_input": "2024-04-19T04:05:15.224509Z",
     "iopub.status.busy": "2024-04-19T04:05:15.223876Z",
     "iopub.status.idle": "2024-04-19T04:10:00.728482Z",
     "shell.execute_reply": "2024-04-19T04:10:00.718695Z"
    },
    "papermill": {
     "duration": 285.519146,
     "end_time": "2024-04-19T04:10:00.732891",
     "exception": false,
     "start_time": "2024-04-19T04:05:15.213745",
     "status": "completed"
    },
    "tags": []
   },
   "outputs": [],
   "source": [
    "# Load GloVe embeddings\n",
    "EMBEDDING_DIM = 300\n",
    "\n",
    "glove_txt = '/kaggle/input/glovewordembeddings/glove.42B.300d.txt'\n",
    "with open(glove_txt, 'r') as file:\n",
    "    lines = file.readlines()\n",
    "    file.close()\n",
    "\n",
    "W_list = []\n",
    "word_list = ['<unk>']\n",
    "freq = {} # Construct vocab from dict \n",
    "\n",
    "for line in lines:\n",
    "    words = line.split(' ')\n",
    "    word = words[0]\n",
    "    word_list.append(word)\n",
    "    freq[word] = 1\n",
    "    \n",
    "    arr = np.array(words[1:], dtype= float)\n",
    "    W_list.append(torch.tensor(arr, dtype= torch.float))\n",
    "    \n",
    "unk_embed = [sum(W_list) / len(W_list)]\n",
    "W_list = unk_embed + W_list\n",
    "\n",
    "W_glove = torch.stack(W_list).to(DEVICE)\n",
    "vocab_glove = vocab(\n",
    "    freq,\n",
    "    specials= [\"<unk>\"]\n",
    ")\n",
    "vocab_glove.set_default_index(vocab_glove[\"<unk>\"])\n",
    "\n",
    "# Make sure vocab match word embeddings\n",
    "assert arr_equal_check(vocab_glove.get_itos(), word_list)"
   ]
  },
  {
   "cell_type": "markdown",
   "id": "d418dd0b",
   "metadata": {
    "papermill": {
     "duration": 0.008641,
     "end_time": "2024-04-19T04:10:00.750846",
     "exception": false,
     "start_time": "2024-04-19T04:10:00.742205",
     "status": "completed"
    },
    "tags": []
   },
   "source": [
    "# PyTorch Dataset class"
   ]
  },
  {
   "cell_type": "code",
   "execution_count": 9,
   "id": "d04ccd9a",
   "metadata": {
    "execution": {
     "iopub.execute_input": "2024-04-19T04:10:00.769632Z",
     "iopub.status.busy": "2024-04-19T04:10:00.769245Z",
     "iopub.status.idle": "2024-04-19T04:10:00.825917Z",
     "shell.execute_reply": "2024-04-19T04:10:00.824848Z"
    },
    "papermill": {
     "duration": 0.068921,
     "end_time": "2024-04-19T04:10:00.828292",
     "exception": false,
     "start_time": "2024-04-19T04:10:00.759371",
     "status": "completed"
    },
    "tags": []
   },
   "outputs": [],
   "source": [
    "# YELP Dataset\n",
    "def collate_batch(batch):\n",
    "    '''\n",
    "    Collate batch with zero-padding\n",
    "    Consult: https://pytorch.org/tutorials/beginner/text_sentiment_ngrams_tutorial.html\n",
    "    '''\n",
    "    texts = []\n",
    "    labels = []\n",
    "    mask = []\n",
    "    for _text, _label in batch:\n",
    "        texts.append(_text)\n",
    "        labels.append(_label)\n",
    "        \n",
    "    L = max([len(text) for text in texts])\n",
    "    \n",
    "    for i in range(len(texts)):\n",
    "        l = texts[i].shape[0]\n",
    "        cur_mask = torch.ones(L)\n",
    "        if l < L:\n",
    "            cur_mask[l:L] = 0\n",
    "            # Zero-padding text, only on one side.\n",
    "            texts[i] = F.pad(texts[i], (0, L-l), 'constant', 0)\n",
    "            \n",
    "        mask.append(cur_mask)\n",
    "    \n",
    "    texts = torch.stack(texts)\n",
    "    labels = torch.stack(labels)\n",
    "    mask = torch.stack(mask)\n",
    "    return texts, labels, mask\n",
    "\n",
    "def collate_batch_HAN(batch):\n",
    "    return batch\n",
    "\n",
    "class YELPDataset(Dataset):\n",
    "    def __init__(self, df, vocab, tokenizer, df_sort= True, punct_splt= False):\n",
    "        self.df = df\n",
    "        self.tokenizer = tokenizer\n",
    "        self.vocab = vocab\n",
    "        self.len_vocab = len(vocab)\n",
    "        self.punct_splt = punct_splt\n",
    "        if df_sort:\n",
    "            self.sort_df_by_txt_len()\n",
    "    \n",
    "    def sort_df_by_txt_len(self):\n",
    "        len_list = [-len(re.split(\"[.!?]+\", self.df.iloc[i]['text'])) for i in range(len(self.df))]\n",
    "        self.df = self.df.iloc[np.argsort(len_list)]\n",
    "    \n",
    "    def __len__(self):\n",
    "        return len(self.df)\n",
    "\n",
    "    def text_pipeline(self, x):\n",
    "        x = x.replace('\\'', '')\n",
    "        return self.vocab(self.tokenizer(x))\n",
    "\n",
    "    def label_pipeline(self, x):\n",
    "        return int(x) - 1\n",
    "    \n",
    "    def __getitem__(self, idx):\n",
    "        if not self.punct_splt:\n",
    "            txt = self.text_pipeline(self.df.iloc[idx]['text'])\n",
    "            txt = torch.tensor(txt, dtype= torch.int64)\n",
    "\n",
    "            label = self.label_pipeline(self.df.iloc[idx]['stars'])\n",
    "            label = torch.tensor(label, dtype= torch.int64)\n",
    "\n",
    "            return (txt, label)\n",
    "    \n",
    "        else:\n",
    "            txt = self.df.iloc[idx]['text']\n",
    "            sentences = re.split(\"[.!?]+\", txt)\n",
    "            L = 0\n",
    "            X = []\n",
    "            mask = []\n",
    "            \n",
    "            for s in sentences:\n",
    "                l = len(s)\n",
    "                if l == 0:\n",
    "                    continue\n",
    "                X.append(torch.tensor(self.text_pipeline(s), dtype= torch.int64))\n",
    "                L = max(L, X[-1].shape[0])\n",
    "                \n",
    "            if len(X) == 0:\n",
    "                return (None, None, None)\n",
    "            \n",
    "            for i in range(len(X)):\n",
    "                l = X[i].shape[0]\n",
    "                cur_mask = torch.ones(L)\n",
    "                \n",
    "                # Zero-padding sentence\n",
    "                if(l < L):\n",
    "                    # Zero-padding sentence, only on one side.\n",
    "                    X[i] = F.pad(X[i], (0, L - l), 'constant', 0)\n",
    "                    cur_mask[l:L] = 0\n",
    "                \n",
    "                mask.append(cur_mask)\n",
    "                    \n",
    "            X = torch.stack(X)\n",
    "            mask = torch.stack(mask)\n",
    "            \n",
    "            label = self.label_pipeline(self.df.iloc[idx]['stars'])\n",
    "            label = torch.tensor(label, dtype= torch.int64)\n",
    "            \n",
    "            return (X, label, mask)"
   ]
  },
  {
   "cell_type": "code",
   "execution_count": 10,
   "id": "bc8c6671",
   "metadata": {
    "execution": {
     "iopub.execute_input": "2024-04-19T04:10:00.846507Z",
     "iopub.status.busy": "2024-04-19T04:10:00.846146Z",
     "iopub.status.idle": "2024-04-19T04:10:31.816792Z",
     "shell.execute_reply": "2024-04-19T04:10:31.815793Z"
    },
    "papermill": {
     "duration": 30.990922,
     "end_time": "2024-04-19T04:10:31.827643",
     "exception": false,
     "start_time": "2024-04-19T04:10:00.836721",
     "status": "completed"
    },
    "tags": []
   },
   "outputs": [
    {
     "name": "stdout",
     "output_type": "stream",
     "text": [
      "Number of datapoints: 1569264\n"
     ]
    },
    {
     "data": {
      "text/html": [
       "<div>\n",
       "<style scoped>\n",
       "    .dataframe tbody tr th:only-of-type {\n",
       "        vertical-align: middle;\n",
       "    }\n",
       "\n",
       "    .dataframe tbody tr th {\n",
       "        vertical-align: top;\n",
       "    }\n",
       "\n",
       "    .dataframe thead th {\n",
       "        text-align: right;\n",
       "    }\n",
       "</style>\n",
       "<table border=\"1\" class=\"dataframe\">\n",
       "  <thead>\n",
       "    <tr style=\"text-align: right;\">\n",
       "      <th></th>\n",
       "      <th>review_id</th>\n",
       "      <th>user_id</th>\n",
       "      <th>business_id</th>\n",
       "      <th>stars</th>\n",
       "      <th>useful</th>\n",
       "      <th>funny</th>\n",
       "      <th>cool</th>\n",
       "      <th>text</th>\n",
       "      <th>date</th>\n",
       "    </tr>\n",
       "  </thead>\n",
       "  <tbody>\n",
       "    <tr>\n",
       "      <th>0</th>\n",
       "      <td>KU_O5udG6zpxOg-VcAEodg</td>\n",
       "      <td>mh_-eMZ6K5RLWhZyISBhwA</td>\n",
       "      <td>XQfwVwDr-v0ZS3_CbbE5Xw</td>\n",
       "      <td>3.0</td>\n",
       "      <td>0</td>\n",
       "      <td>0</td>\n",
       "      <td>0</td>\n",
       "      <td>If you decide to eat here, just be aware it is...</td>\n",
       "      <td>2018-07-07 22:09:11</td>\n",
       "    </tr>\n",
       "    <tr>\n",
       "      <th>1</th>\n",
       "      <td>BiTunyQ73aT9WBnpR9DZGw</td>\n",
       "      <td>OyoGAe7OKpv6SyGZT5g77Q</td>\n",
       "      <td>7ATYjTIgM3jUlt4UM3IypQ</td>\n",
       "      <td>5.0</td>\n",
       "      <td>1</td>\n",
       "      <td>0</td>\n",
       "      <td>1</td>\n",
       "      <td>I've taken a lot of spin classes over the year...</td>\n",
       "      <td>2012-01-03 15:28:18</td>\n",
       "    </tr>\n",
       "    <tr>\n",
       "      <th>2</th>\n",
       "      <td>saUsX_uimxRlCVr67Z4Jig</td>\n",
       "      <td>8g_iMtfSiwikVnbP2etR0A</td>\n",
       "      <td>YjUWPpI6HXG530lwP-fb2A</td>\n",
       "      <td>3.0</td>\n",
       "      <td>0</td>\n",
       "      <td>0</td>\n",
       "      <td>0</td>\n",
       "      <td>Family diner. Had the buffet. Eclectic assortm...</td>\n",
       "      <td>2014-02-05 20:30:30</td>\n",
       "    </tr>\n",
       "    <tr>\n",
       "      <th>3</th>\n",
       "      <td>AqPFMleE6RsU23_auESxiA</td>\n",
       "      <td>_7bHUi9Uuf5__HHc_Q8guQ</td>\n",
       "      <td>kxX2SOes4o-D3ZQBkiMRfA</td>\n",
       "      <td>5.0</td>\n",
       "      <td>1</td>\n",
       "      <td>0</td>\n",
       "      <td>1</td>\n",
       "      <td>Wow!  Yummy, different,  delicious.   Our favo...</td>\n",
       "      <td>2015-01-04 00:01:03</td>\n",
       "    </tr>\n",
       "    <tr>\n",
       "      <th>4</th>\n",
       "      <td>Sx8TMOWLNuJBWer-0pcmoA</td>\n",
       "      <td>bcjbaE6dDog4jkNY91ncLQ</td>\n",
       "      <td>e4Vwtrqf-wpJfwesgvdgxQ</td>\n",
       "      <td>4.0</td>\n",
       "      <td>1</td>\n",
       "      <td>0</td>\n",
       "      <td>1</td>\n",
       "      <td>Cute interior and owner (?) gave us tour of up...</td>\n",
       "      <td>2017-01-14 20:54:15</td>\n",
       "    </tr>\n",
       "  </tbody>\n",
       "</table>\n",
       "</div>"
      ],
      "text/plain": [
       "                review_id                 user_id             business_id  \\\n",
       "0  KU_O5udG6zpxOg-VcAEodg  mh_-eMZ6K5RLWhZyISBhwA  XQfwVwDr-v0ZS3_CbbE5Xw   \n",
       "1  BiTunyQ73aT9WBnpR9DZGw  OyoGAe7OKpv6SyGZT5g77Q  7ATYjTIgM3jUlt4UM3IypQ   \n",
       "2  saUsX_uimxRlCVr67Z4Jig  8g_iMtfSiwikVnbP2etR0A  YjUWPpI6HXG530lwP-fb2A   \n",
       "3  AqPFMleE6RsU23_auESxiA  _7bHUi9Uuf5__HHc_Q8guQ  kxX2SOes4o-D3ZQBkiMRfA   \n",
       "4  Sx8TMOWLNuJBWer-0pcmoA  bcjbaE6dDog4jkNY91ncLQ  e4Vwtrqf-wpJfwesgvdgxQ   \n",
       "\n",
       "   stars  useful  funny  cool  \\\n",
       "0    3.0       0      0     0   \n",
       "1    5.0       1      0     1   \n",
       "2    3.0       0      0     0   \n",
       "3    5.0       1      0     1   \n",
       "4    4.0       1      0     1   \n",
       "\n",
       "                                                text                 date  \n",
       "0  If you decide to eat here, just be aware it is...  2018-07-07 22:09:11  \n",
       "1  I've taken a lot of spin classes over the year...  2012-01-03 15:28:18  \n",
       "2  Family diner. Had the buffet. Eclectic assortm...  2014-02-05 20:30:30  \n",
       "3  Wow!  Yummy, different,  delicious.   Our favo...  2015-01-04 00:01:03  \n",
       "4  Cute interior and owner (?) gave us tour of up...  2017-01-14 20:54:15  "
      ]
     },
     "execution_count": 10,
     "metadata": {},
     "output_type": "execute_result"
    }
   ],
   "source": [
    "# CSV Preparation\n",
    "data_file = open(\"/kaggle/input/yelp-dataset/yelp_academic_dataset_review.json\")\n",
    "data = []\n",
    "\n",
    "cnt = 1569264 # Size of YELP 2015 dataset\n",
    "# cnt = 10000\n",
    "\n",
    "for line in data_file:\n",
    "    data.append(json.loads(line))\n",
    "    cnt -= 1\n",
    "    if cnt == 0:\n",
    "        break\n",
    "    \n",
    "data_file.close()\n",
    "df = pd.DataFrame(data)\n",
    "\n",
    "print(\"Number of datapoints:\", len(df))\n",
    "df.head()"
   ]
  },
  {
   "cell_type": "code",
   "execution_count": 11,
   "id": "2a0b016a",
   "metadata": {
    "execution": {
     "iopub.execute_input": "2024-04-19T04:10:31.845916Z",
     "iopub.status.busy": "2024-04-19T04:10:31.845508Z",
     "iopub.status.idle": "2024-04-19T04:10:34.847227Z",
     "shell.execute_reply": "2024-04-19T04:10:34.846122Z"
    },
    "papermill": {
     "duration": 3.013756,
     "end_time": "2024-04-19T04:10:34.849653",
     "exception": false,
     "start_time": "2024-04-19T04:10:31.835897",
     "status": "completed"
    },
    "tags": []
   },
   "outputs": [
    {
     "name": "stdout",
     "output_type": "stream",
     "text": [
      "Size of trainset: 1255411\n",
      "Size of valset: 15692\n",
      "Size of testset: 298161\n"
     ]
    }
   ],
   "source": [
    "# Train-val-test splits\n",
    "df_size = len(df)\n",
    "idx = [x for x in range(df_size)]\n",
    "random.Random(555).shuffle(idx)\n",
    "\n",
    "train_num = int(df_size * 0.8)\n",
    "val_num = int(df_size * 0.01)\n",
    "test_num = int(df_size * 0.1)\n",
    "\n",
    "# print(train_num, val_num, test_num)\n",
    "\n",
    "train_idx = idx[:train_num]\n",
    "val_idx = idx[train_num : (train_num + val_num)]\n",
    "test_idx = idx[(train_num + val_num) : ]\n",
    "\n",
    "train_df = df.iloc[train_idx]\n",
    "val_df = df.iloc[val_idx]\n",
    "test_df = df.iloc[test_idx]\n",
    "\n",
    "print('Size of trainset:', len(train_df))\n",
    "print('Size of valset:', len(val_df))\n",
    "print('Size of testset:', len(test_df))"
   ]
  },
  {
   "cell_type": "code",
   "execution_count": 12,
   "id": "fa97029a",
   "metadata": {
    "execution": {
     "iopub.execute_input": "2024-04-19T04:10:34.870380Z",
     "iopub.status.busy": "2024-04-19T04:10:34.870002Z",
     "iopub.status.idle": "2024-04-19T04:13:07.212114Z",
     "shell.execute_reply": "2024-04-19T04:13:07.211050Z"
    },
    "papermill": {
     "duration": 152.364245,
     "end_time": "2024-04-19T04:13:07.222917",
     "exception": false,
     "start_time": "2024-04-19T04:10:34.858672",
     "status": "completed"
    },
    "tags": []
   },
   "outputs": [
    {
     "name": "stdout",
     "output_type": "stream",
     "text": [
      "Shape of Texts: torch.Size([154, 27])\n",
      "Shape of Labels: torch.Size([])\n",
      "Shape of Mask: torch.Size([154, 27])\n"
     ]
    }
   ],
   "source": [
    "# Dataset, Dataloader\n",
    "if MODE == 'glove':\n",
    "    data_vocab = vocab_glove\n",
    "if MODE == 'negative_sampling':\n",
    "    data_vocab = vocab_ns\n",
    "\n",
    "trainset = YELPDataset(train_df, data_vocab, tokenizer, punct_splt= True)\n",
    "valset = YELPDataset(val_df, data_vocab, tokenizer, punct_splt= True)\n",
    "testset = YELPDataset(test_df, data_vocab, tokenizer, punct_splt= True)\n",
    "\n",
    "trainloader = DataLoader(trainset, batch_size= BATCH_SIZE, \n",
    "                         shuffle= False, pin_memory= True, collate_fn= collate_batch_HAN)\n",
    "valloader = DataLoader(valset, batch_size= BATCH_SIZE, \n",
    "                         shuffle= False, pin_memory= True, collate_fn= collate_batch_HAN)\n",
    "testloader = DataLoader(testset, batch_size= BATCH_SIZE, \n",
    "                         shuffle= False, pin_memory= True, collate_fn= collate_batch_HAN)\n",
    "\n",
    "for batch in trainloader:\n",
    "    X, y, mask = batch[0]\n",
    "    print(\"Shape of Texts:\", X.shape)\n",
    "    print(\"Shape of Labels:\", y.shape)\n",
    "    print(\"Shape of Mask:\", mask.shape)\n",
    "    break"
   ]
  },
  {
   "cell_type": "markdown",
   "id": "85f3031b",
   "metadata": {
    "papermill": {
     "duration": 0.009114,
     "end_time": "2024-04-19T04:13:07.241908",
     "exception": false,
     "start_time": "2024-04-19T04:13:07.232794",
     "status": "completed"
    },
    "tags": []
   },
   "source": [
    "# HAN Model"
   ]
  },
  {
   "cell_type": "code",
   "execution_count": 13,
   "id": "bb54f997",
   "metadata": {
    "execution": {
     "iopub.execute_input": "2024-04-19T04:13:07.262308Z",
     "iopub.status.busy": "2024-04-19T04:13:07.261924Z",
     "iopub.status.idle": "2024-04-19T04:13:07.377111Z",
     "shell.execute_reply": "2024-04-19T04:13:07.376085Z"
    },
    "papermill": {
     "duration": 0.128393,
     "end_time": "2024-04-19T04:13:07.379406",
     "exception": false,
     "start_time": "2024-04-19T04:13:07.251013",
     "status": "completed"
    },
    "tags": []
   },
   "outputs": [],
   "source": [
    "class HANModel(nn.Module):\n",
    "    def __init__(self, W_e, embedding_dim, gru_dim, \n",
    "                 num_classes):\n",
    "        super(HANModel, self).__init__()\n",
    "        \n",
    "        DEVICE = torch.device(\"cuda:0\" if torch.cuda.is_available() else \"cpu\")\n",
    "        \n",
    "        # Initialize\n",
    "        self.E = embedding_dim\n",
    "        self.G = gru_dim\n",
    "        self.num_classes = num_classes\n",
    "        \n",
    "        # Pretrained word embeddings\n",
    "        self.W_e = W_e\n",
    "        \n",
    "        # Word-level attention\n",
    "        self.WordEncoder = nn.GRU(\n",
    "            input_size= embedding_dim,\n",
    "            hidden_size= gru_dim,\n",
    "            batch_first= True,\n",
    "            bidirectional= True\n",
    "        )\n",
    "        self.WordMLP = nn.Sequential(\n",
    "            nn.Linear(2*gru_dim, 2*gru_dim),\n",
    "            nn.Tanh()\n",
    "        )\n",
    "        self.u_w = nn.Parameter(torch.randn(2*gru_dim))\n",
    "        \n",
    "        # Sequence-level attention\n",
    "        self.SeqEncoder = nn.GRU(\n",
    "            input_size= 2*gru_dim,\n",
    "            hidden_size= gru_dim,\n",
    "            batch_first= True,\n",
    "            bidirectional= True\n",
    "        )\n",
    "        self.SeqMLP = nn.Sequential(\n",
    "            nn.Linear(2*gru_dim, 2*gru_dim),\n",
    "            nn.Tanh()\n",
    "        )\n",
    "        self.u_s = nn.Parameter(torch.randn(2*gru_dim))\n",
    "        \n",
    "        # Classifier\n",
    "        self.classifier = nn.Sequential(\n",
    "            nn.Linear(2*gru_dim, num_classes),\n",
    "            nn.Softmax()\n",
    "        )\n",
    "        \n",
    "    def forward(self, text, mask, check_shape= False):\n",
    "        '''\n",
    "        <text> is expected to have shape (S, L)\n",
    "        \n",
    "        Number of sentence: S\n",
    "        Max sentence length: L\n",
    "        Embedding size: E\n",
    "        GRU dimension: G -> Bidirectional: 2G\n",
    "        '''\n",
    "        S = text.shape[0]\n",
    "        L = text.shape[1]\n",
    "        \n",
    "        x = self.W_e[text] # Text embedding, Shape: (S, L, E)\n",
    "        hW,_ = self.WordEncoder(x) # Word annotation. Shape: (S, L, 2G)\n",
    "        uW = self.WordMLP(hW) # Word hidden representation. Shape: (S, L, 2G)\n",
    "\n",
    "        # Attention weight - Needs verifications\n",
    "        alphaW = nn.Softmax()(torch.einsum('slg,g->sl', uW, self.u_w) * mask) # Shape: (S, L)\n",
    "        \n",
    "        # Sentence vector\n",
    "        s = torch.einsum('slg,sl->sg', hW, alphaW) # Shape: (S, 2G)\n",
    "        hS,_ = self.SeqEncoder(s) # Sentence annotation. Shape: (S, 2G)\n",
    "        uS = self.SeqMLP(hS) # Sentence hidden representation. Shape: (S, 2G)\n",
    "        \n",
    "        # Attention weight - Needs verifications\n",
    "        alphaS = nn.Softmax()(torch.matmul(uS, self.u_s)) # Shape: (S)\n",
    "        \n",
    "        # Document vector\n",
    "        v = torch.matmul(alphaS, hS)\n",
    "        \n",
    "        logits = self.classifier(v)\n",
    "        \n",
    "        if check_shape:\n",
    "            print(f'Basic shapes: S = {S}, E = {self.E}, L = {L}, G = {self.G}')\n",
    "            print('*********************************')\n",
    "            print('Shape of x:', x.shape)\n",
    "            print('Shape of hW:', hW.shape)\n",
    "            print('Shape of uW:', uW.shape)\n",
    "            print('Shape of alphaW:', alphaW.shape)\n",
    "            print('*********************************')\n",
    "            print('Shape of s:', s.shape)\n",
    "            print('Shape of hS:', hS.shape)\n",
    "            print('Shape of uS:', uS.shape)\n",
    "            print('Shape of alphaS:', alphaS.shape)\n",
    "            print('*********************************')\n",
    "            print('Shape of v:', v.shape)\n",
    "            print('Shape of logits:', logits.shape)\n",
    "        \n",
    "        return logits\n",
    "        "
   ]
  },
  {
   "cell_type": "code",
   "execution_count": 14,
   "id": "4b5c4a41",
   "metadata": {
    "execution": {
     "iopub.execute_input": "2024-04-19T04:13:07.399797Z",
     "iopub.status.busy": "2024-04-19T04:13:07.398654Z",
     "iopub.status.idle": "2024-04-19T04:13:07.404782Z",
     "shell.execute_reply": "2024-04-19T04:13:07.403669Z"
    },
    "papermill": {
     "duration": 0.018425,
     "end_time": "2024-04-19T04:13:07.406971",
     "exception": false,
     "start_time": "2024-04-19T04:13:07.388546",
     "status": "completed"
    },
    "tags": []
   },
   "outputs": [],
   "source": [
    "# Xavier normal initialization\n",
    "def xavier_normal_init(m):\n",
    "    '''\n",
    "    Xavier normal initialization.\n",
    "    '''\n",
    "    if type(m) == nn.Linear or type(m) == nn.Parameter:\n",
    "        print(m)\n",
    "        torch.nn.init.xavier_normal_(m.weight)"
   ]
  },
  {
   "cell_type": "code",
   "execution_count": 15,
   "id": "e156199a",
   "metadata": {
    "execution": {
     "iopub.execute_input": "2024-04-19T04:13:07.427446Z",
     "iopub.status.busy": "2024-04-19T04:13:07.426584Z",
     "iopub.status.idle": "2024-04-19T04:13:08.276878Z",
     "shell.execute_reply": "2024-04-19T04:13:08.275890Z"
    },
    "papermill": {
     "duration": 0.864188,
     "end_time": "2024-04-19T04:13:08.280490",
     "exception": false,
     "start_time": "2024-04-19T04:13:07.416302",
     "status": "completed"
    },
    "tags": []
   },
   "outputs": [
    {
     "name": "stdout",
     "output_type": "stream",
     "text": [
      "*********************************\n",
      "Submodules having Xavier normal initialization:\n",
      "Linear(in_features=100, out_features=100, bias=True)\n",
      "Linear(in_features=100, out_features=100, bias=True)\n",
      "Linear(in_features=100, out_features=5, bias=True)\n",
      "*********************************\n",
      "Basic shapes: S = 154, E = 300, L = 27, G = 50\n",
      "*********************************\n",
      "Shape of x: torch.Size([154, 27, 300])\n",
      "Shape of hW: torch.Size([154, 27, 100])\n",
      "Shape of uW: torch.Size([154, 27, 100])\n",
      "Shape of alphaW: torch.Size([154, 27])\n",
      "*********************************\n",
      "Shape of s: torch.Size([154, 100])\n",
      "Shape of hS: torch.Size([154, 100])\n",
      "Shape of uS: torch.Size([154, 100])\n",
      "Shape of alphaS: torch.Size([154])\n",
      "*********************************\n",
      "Shape of v: torch.Size([100])\n",
      "Shape of logits: torch.Size([5])\n",
      "*********************************\n",
      "HANModel(\n",
      "  (WordEncoder): GRU(300, 50, batch_first=True, bidirectional=True)\n",
      "  (WordMLP): Sequential(\n",
      "    (0): Linear(in_features=100, out_features=100, bias=True)\n",
      "    (1): Tanh()\n",
      "  )\n",
      "  (SeqEncoder): GRU(100, 50, batch_first=True, bidirectional=True)\n",
      "  (SeqMLP): Sequential(\n",
      "    (0): Linear(in_features=100, out_features=100, bias=True)\n",
      "    (1): Tanh()\n",
      "  )\n",
      "  (classifier): Sequential(\n",
      "    (0): Linear(in_features=100, out_features=5, bias=True)\n",
      "    (1): Softmax(dim=None)\n",
      "  )\n",
      ")\n"
     ]
    },
    {
     "name": "stderr",
     "output_type": "stream",
     "text": [
      "/opt/conda/lib/python3.10/site-packages/torch/nn/modules/module.py:1518: UserWarning: Implicit dimension choice for softmax has been deprecated. Change the call to include dim=X as an argument.\n",
      "  return self._call_impl(*args, **kwargs)\n"
     ]
    }
   ],
   "source": [
    "model = HANModel(W_glove, EMBEDDING_DIM, GRU_DIM, NUM_CLASSES).to(DEVICE)\n",
    "print('*********************************')\n",
    "print('Submodules having Xavier normal initialization:')\n",
    "model.apply(xavier_normal_init)\n",
    "print('*********************************')\n",
    "\n",
    "for batch in trainloader:\n",
    "    X, y, mask = batch[0]\n",
    "    X, mask = X.to(DEVICE), mask.to(DEVICE)\n",
    "    logits = model(X, mask, check_shape= True)\n",
    "    break\n",
    "    \n",
    "print('*********************************')\n",
    "print(model)"
   ]
  },
  {
   "cell_type": "markdown",
   "id": "c393c18a",
   "metadata": {
    "papermill": {
     "duration": 0.008873,
     "end_time": "2024-04-19T04:13:08.298893",
     "exception": false,
     "start_time": "2024-04-19T04:13:08.290020",
     "status": "completed"
    },
    "tags": []
   },
   "source": [
    "# Training"
   ]
  },
  {
   "cell_type": "code",
   "execution_count": 16,
   "id": "a3e8a198",
   "metadata": {
    "execution": {
     "iopub.execute_input": "2024-04-19T04:13:08.318972Z",
     "iopub.status.busy": "2024-04-19T04:13:08.318529Z",
     "iopub.status.idle": "2024-04-19T04:13:10.316842Z",
     "shell.execute_reply": "2024-04-19T04:13:10.315338Z"
    },
    "papermill": {
     "duration": 2.011943,
     "end_time": "2024-04-19T04:13:10.319917",
     "exception": false,
     "start_time": "2024-04-19T04:13:08.307974",
     "status": "completed"
    },
    "tags": []
   },
   "outputs": [],
   "source": [
    "# Training configs\n",
    "LR = 1e-3\n",
    "MOMENTUM = 0.9\n",
    "EPOCHS = 3\n",
    "ITER = EPOCHS * len(trainloader)\n",
    "OPTIMIZER = torch.optim.AdamW(model.parameters(), lr= LR)\n",
    "# OPTIMIZER = torch.optim.SGD(model.parameters(), lr= LR, momentum= MOMENTUM, nesterov= True)\n",
    "SCHEDULER = lr_scheduler = torch.optim.lr_scheduler.CosineAnnealingLR(OPTIMIZER, T_max = ITER)\n",
    "LOSS_FN = nn.CrossEntropyLoss()\n",
    "RECORD = 0.0"
   ]
  },
  {
   "cell_type": "code",
   "execution_count": 17,
   "id": "8563f71d",
   "metadata": {
    "execution": {
     "iopub.execute_input": "2024-04-19T04:13:10.341657Z",
     "iopub.status.busy": "2024-04-19T04:13:10.341097Z",
     "iopub.status.idle": "2024-04-19T04:13:10.358963Z",
     "shell.execute_reply": "2024-04-19T04:13:10.357884Z"
    },
    "papermill": {
     "duration": 0.031443,
     "end_time": "2024-04-19T04:13:10.361171",
     "exception": false,
     "start_time": "2024-04-19T04:13:10.329728",
     "status": "completed"
    },
    "tags": []
   },
   "outputs": [],
   "source": [
    "# Train procedures\n",
    "def test(testloader, model, loss_fn):\n",
    "    model.eval()\n",
    "    test_loss = 0\n",
    "    correct = 0\n",
    "    bcnt = 0\n",
    "    cnt = 0\n",
    "    \n",
    "    for i, batch in enumerate(testloader):\n",
    "        tmp_loss = 0\n",
    "        cnt += 1\n",
    "        for (X, y, mask) in batch:\n",
    "            if X is None:\n",
    "                continue\n",
    "            bcnt += 1\n",
    "            X, y, mask = X.to(DEVICE), y.to(DEVICE), mask.to(DEVICE)\n",
    "            pred = model(X, mask)\n",
    "            tmp_loss += loss_fn(logits, y).item()\n",
    "            correct += (pred.argmax(0) == y).type(torch.float).sum().item()\n",
    "        tmp_loss /= len(batch)\n",
    "        test_loss += tmp_loss\n",
    "        \n",
    "    test_loss /= len(testloader)\n",
    "    accuracy = correct / len(testloader.dataset)\n",
    "    \n",
    "    return test_loss, accuracy\n",
    "\n",
    "def train(trainloader, valloader, model, optimizer, scheduler, loss_fn, val_freq):\n",
    "    global RECORD\n",
    "    model.train()\n",
    "    tloss = []\n",
    "    cur_acc = 0\n",
    "    for i, batch in enumerate(trainloader):\n",
    "        loss = 0\n",
    "        for (X, y, mask) in batch:\n",
    "            if X is None:\n",
    "                continue\n",
    "            X, y, mask = X.to(DEVICE), y.to(DEVICE), mask.to(DEVICE)\n",
    "            logits = model(X, mask)\n",
    "            loss += loss_fn(logits, y)\n",
    "        loss /= len(batch)\n",
    "        \n",
    "        if val_freq > 0 and i % val_freq == 0:\n",
    "            tloss.append(loss.cpu().detach().numpy())\n",
    "            model.eval()\n",
    "            val_loss, val_acc = test(valloader, model, loss_fn)\n",
    "            model.train()\n",
    "            print(f'Iter {i}, loss = {tloss[-1]}, val_acc = {val_acc}')\n",
    "            if RECORD < val_acc:\n",
    "                RECORD = val_acc\n",
    "                print('Saving model...')\n",
    "                torch.save(model.state_dict(), f'HAN_{val_acc*100}.pth')\n",
    "                torch.save(model.state_dict(), f'HAN_best.pth')\n",
    "        \n",
    "        tloss.append(loss.cpu().detach().numpy())\n",
    "        optimizer.zero_grad()\n",
    "        loss.backward()\n",
    "        optimizer.step()\n",
    "        scheduler.step()\n",
    "        \n",
    "    model.eval()\n",
    "    val_loss, val_acc = test(valloader, model, loss_fn)\n",
    "    model.train()\n",
    "    print(f'Iter {i}, loss = {tloss[-1]}, val_acc = {val_acc}')\n",
    "    if RECORD < val_acc:\n",
    "        RECORD = val_acc\n",
    "        print('Saving model...')\n",
    "        torch.save(model.state_dict(), f'HAN_{val_acc*100}.pth')\n",
    "        torch.save(model.state_dict(), f'HAN_best.pth')\n",
    "        \n",
    "    return tloss"
   ]
  },
  {
   "cell_type": "code",
   "execution_count": 18,
   "id": "14d7481a",
   "metadata": {
    "execution": {
     "iopub.execute_input": "2024-04-19T04:13:10.382803Z",
     "iopub.status.busy": "2024-04-19T04:13:10.382422Z",
     "iopub.status.idle": "2024-04-19T10:19:30.861987Z",
     "shell.execute_reply": "2024-04-19T10:19:30.860854Z"
    },
    "papermill": {
     "duration": 21980.493442,
     "end_time": "2024-04-19T10:19:30.864622",
     "exception": false,
     "start_time": "2024-04-19T04:13:10.371180",
     "status": "completed"
    },
    "tags": []
   },
   "outputs": [
    {
     "name": "stdout",
     "output_type": "stream",
     "text": [
      "Epoch 0 starts.\n"
     ]
    },
    {
     "name": "stderr",
     "output_type": "stream",
     "text": [
      "/opt/conda/lib/python3.10/site-packages/torch/nn/modules/module.py:1518: UserWarning: Implicit dimension choice for softmax has been deprecated. Change the call to include dim=X as an argument.\n",
      "  return self._call_impl(*args, **kwargs)\n"
     ]
    },
    {
     "name": "stdout",
     "output_type": "stream",
     "text": [
      "Iter 0, loss = 1.610776662826538, val_acc = 0.19404792250828448\n",
      "Saving model...\n",
      "Iter 1000, loss = 1.336042881011963, val_acc = 0.6147718582717309\n",
      "Saving model...\n",
      "Iter 2000, loss = 1.3050657510757446, val_acc = 0.6075070099413714\n",
      "Iter 3000, loss = 1.2617769241333008, val_acc = 0.6642238083099669\n",
      "Saving model...\n",
      "Iter 4000, loss = 1.2269591093063354, val_acc = 0.6783711445322458\n",
      "Saving model...\n",
      "Iter 5000, loss = 1.2264152765274048, val_acc = 0.6840428243691052\n",
      "Saving model...\n",
      "Iter 6000, loss = 1.200705647468567, val_acc = 0.6839790976293653\n",
      "Iter 7000, loss = 1.157285451889038, val_acc = 0.699273515166964\n",
      "Saving model...\n",
      "Iter 8000, loss = 1.1436022520065308, val_acc = 0.7036069334692837\n",
      "Saving model...\n",
      "Iter 9000, loss = 1.1320769786834717, val_acc = 0.7043079276064237\n",
      "Saving model...\n",
      "Iter 10000, loss = 1.1760168075561523, val_acc = 0.7009304104002039\n",
      "Iter 11000, loss = 1.1939465999603271, val_acc = 0.7054550089217435\n",
      "Saving model...\n",
      "Iter 12000, loss = 1.1599706411361694, val_acc = 0.7034157532500638\n",
      "Iter 13000, loss = 1.1643295288085938, val_acc = 0.7061560030588835\n",
      "Saving model...\n",
      "Iter 14000, loss = 1.2377344369888306, val_acc = 0.7064109100178435\n",
      "Saving model...\n",
      "Iter 15000, loss = 1.1754943132400513, val_acc = 0.6980627071119041\n",
      "Iter 16000, loss = 1.2185783386230469, val_acc = 0.686528167218965\n",
      "Iter 17000, loss = 1.1510697603225708, val_acc = 0.687165434616365\n",
      "Iter 18000, loss = 1.143703818321228, val_acc = 0.6955773642620443\n",
      "Iter 19000, loss = 1.0834589004516602, val_acc = 0.7032245730308437\n",
      "Iter 19615, loss = 1.2752591371536255, val_acc = 0.6737190925312261\n",
      "Epoch 0: LOSS = 1.2111789962562531, VAL-ACC = 0.6737190925312261\n",
      "Epoch 1 starts.\n",
      "Iter 0, loss = 1.2944914102554321, val_acc = 0.6737190925312261\n",
      "Iter 1000, loss = 1.1783599853515625, val_acc = 0.7189013510068825\n",
      "Saving model...\n",
      "Iter 2000, loss = 1.226620078086853, val_acc = 0.7195386184042825\n",
      "Saving model...\n",
      "Iter 3000, loss = 1.2497035264968872, val_acc = 0.7229161356105022\n",
      "Saving model...\n",
      "Iter 4000, loss = 1.1909905672073364, val_acc = 0.7220239612541423\n",
      "Iter 5000, loss = 1.1887270212173462, val_acc = 0.7169895488146827\n",
      "Iter 6000, loss = 1.1345592737197876, val_acc = 0.7164797348967626\n",
      "Iter 7000, loss = 1.1209884881973267, val_acc = 0.7236808564873821\n",
      "Saving model...\n",
      "Iter 8000, loss = 1.150762915611267, val_acc = 0.7213229671170023\n",
      "Iter 9000, loss = 1.1135835647583008, val_acc = 0.7247642110629621\n",
      "Saving model...\n",
      "Iter 10000, loss = 1.1431951522827148, val_acc = 0.7266122865154219\n",
      "Saving model...\n",
      "Iter 11000, loss = 1.1569957733154297, val_acc = 0.725210298241142\n",
      "Iter 12000, loss = 1.192845106124878, val_acc = 0.7241269436655621\n",
      "Iter 13000, loss = 1.1495006084442139, val_acc = 0.7262299260769819\n",
      "Iter 14000, loss = 1.2218983173370361, val_acc = 0.7247642110629621\n",
      "Iter 15000, loss = 1.1774545907974243, val_acc = 0.7212592403772623\n",
      "Iter 16000, loss = 1.2176707983016968, val_acc = 0.7112541422380831\n",
      "Iter 17000, loss = 1.1416703462600708, val_acc = 0.7152689268417027\n",
      "Iter 18000, loss = 1.1143925189971924, val_acc = 0.712719857252103\n",
      "Iter 19000, loss = 1.066571593284607, val_acc = 0.7108080550599032\n",
      "Iter 19615, loss = 1.2638417482376099, val_acc = 0.6980627071119041\n",
      "Epoch 1: LOSS = 1.1798709470935789, VAL-ACC = 0.6980627071119041\n",
      "Epoch 2 starts.\n",
      "Iter 0, loss = 1.348355770111084, val_acc = 0.6980627071119041\n",
      "Iter 1000, loss = 1.1864923238754272, val_acc = 0.7302447106806016\n",
      "Saving model...\n",
      "Iter 2000, loss = 1.1736186742782593, val_acc = 0.7334310476676014\n",
      "Saving model...\n",
      "Iter 3000, loss = 1.2368828058242798, val_acc = 0.7307545245985215\n",
      "Iter 4000, loss = 1.2070459127426147, val_acc = 0.7310731582972215\n",
      "Iter 5000, loss = 1.15591561794281, val_acc = 0.7305633443793016\n",
      "Iter 6000, loss = 1.12717866897583, val_acc = 0.7311368850369615\n",
      "Iter 7000, loss = 1.0984941720962524, val_acc = 0.7338134081060413\n",
      "Saving model...\n",
      "Iter 8000, loss = 1.1418519020080566, val_acc = 0.7330486872291614\n",
      "Iter 9000, loss = 1.1355996131896973, val_acc = 0.7336222278868213\n",
      "Iter 10000, loss = 1.1485239267349243, val_acc = 0.7322839663522814\n",
      "Iter 11000, loss = 1.1320322751998901, val_acc = 0.7342594952842213\n",
      "Saving model...\n",
      "Iter 12000, loss = 1.1784632205963135, val_acc = 0.7334947744073413\n",
      "Iter 13000, loss = 1.1409746408462524, val_acc = 0.7338771348457813\n",
      "Iter 14000, loss = 1.1911311149597168, val_acc = 0.7334947744073413\n",
      "Iter 15000, loss = 1.1817777156829834, val_acc = 0.7334947744073413\n",
      "Iter 16000, loss = 1.194128394126892, val_acc = 0.7323476930920214\n",
      "Iter 17000, loss = 1.1296532154083252, val_acc = 0.7318378791741015\n",
      "Iter 18000, loss = 1.13071870803833, val_acc = 0.7307545245985215\n",
      "Iter 19000, loss = 1.0412484407424927, val_acc = 0.7304996176395615\n",
      "Iter 19615, loss = 1.2442777156829834, val_acc = 0.7303721641600815\n",
      "Epoch 2: LOSS = 1.1649406454147402, VAL-ACC = 0.7303721641600815\n"
     ]
    },
    {
     "data": {
      "image/png": "[encoded data removed]",
      "text/plain": [
       "<Figure size 640x480 with 1 Axes>"
      ]
     },
     "metadata": {},
     "output_type": "display_data"
    }
   ],
   "source": [
    "# TRAINING\n",
    "iter_loss = []\n",
    "epoch_loss = []\n",
    "best_acc = 0\n",
    "\n",
    "for t in range(EPOCHS):\n",
    "    print(f'Epoch {t} starts.')\n",
    "    tloss = train(trainloader, valloader, model, OPTIMIZER, SCHEDULER, LOSS_FN, 1000)\n",
    "    val_loss, val_acc = test(valloader, model, LOSS_FN)\n",
    "    \n",
    "    iter_loss = iter_loss + tloss\n",
    "    epoch_loss.append(sum(tloss) / len(tloss))\n",
    "    \n",
    "    print(f'Epoch {t}: LOSS = {epoch_loss[-1]}, VAL-ACC = {val_acc}')\n",
    "    \n",
    "torch.save(model.state_dict(), f'HAN_last.pth')\n",
    "    \n",
    "fig, axes = plt.subplots()\n",
    "axes.plot(iter_loss, label = 'train-loss')\n",
    "axes.legend()\n",
    "axes.set_xlabel('Iteration')\n",
    "axes.set_ylabel('Loss')\n",
    "plt.show()"
   ]
  },
  {
   "cell_type": "code",
   "execution_count": 19,
   "id": "09997999",
   "metadata": {
    "execution": {
     "iopub.execute_input": "2024-04-19T10:19:30.900307Z",
     "iopub.status.busy": "2024-04-19T10:19:30.899557Z",
     "iopub.status.idle": "2024-04-19T10:33:52.643898Z",
     "shell.execute_reply": "2024-04-19T10:33:52.642779Z"
    },
    "papermill": {
     "duration": 861.781472,
     "end_time": "2024-04-19T10:33:52.662862",
     "exception": false,
     "start_time": "2024-04-19T10:19:30.881390",
     "status": "completed"
    },
    "tags": []
   },
   "outputs": [
    {
     "name": "stdout",
     "output_type": "stream",
     "text": [
      "(LAST) Test accuracy: 0.7255543146152582\n"
     ]
    }
   ],
   "source": [
    "_, val_acc = test(testloader, model, LOSS_FN)\n",
    "print(f'(LAST) Test accuracy: {val_acc}')"
   ]
  },
  {
   "cell_type": "code",
   "execution_count": 20,
   "id": "3faed39c",
   "metadata": {
    "execution": {
     "iopub.execute_input": "2024-04-19T10:33:52.697367Z",
     "iopub.status.busy": "2024-04-19T10:33:52.696456Z",
     "iopub.status.idle": "2024-04-19T10:48:16.122334Z",
     "shell.execute_reply": "2024-04-19T10:48:16.121263Z"
    },
    "papermill": {
     "duration": 863.46305,
     "end_time": "2024-04-19T10:48:16.142204",
     "exception": false,
     "start_time": "2024-04-19T10:33:52.679154",
     "status": "completed"
    },
    "tags": []
   },
   "outputs": [
    {
     "name": "stdout",
     "output_type": "stream",
     "text": [
      "(BEST) Test accuracy: 0.7277645299016303\n"
     ]
    }
   ],
   "source": [
    "model.load_state_dict(torch.load('HAN_best.pth', map_location= DEVICE))\n",
    "_, val_acc = test(testloader, model, LOSS_FN)\n",
    "print(f'(BEST) Test accuracy: {val_acc}')"
   ]
  }
 ],
 "metadata": {
  "kaggle": {
   "accelerator": "gpu",
   "dataSources": [
    {
     "datasetId": 1835,
     "sourceId": 3176,
     "sourceType": "datasetVersion"
    },
    {
     "datasetId": 10100,
     "sourceId": 3316532,
     "sourceType": "datasetVersion"
    },
    {
     "datasetId": 2546760,
     "sourceId": 4345109,
     "sourceType": "datasetVersion"
    },
    {
     "datasetId": 4741673,
     "sourceId": 8053014,
     "sourceType": "datasetVersion"
    }
   ],
   "dockerImageVersionId": 30674,
   "isGpuEnabled": true,
   "isInternetEnabled": true,
   "language": "python",
   "sourceType": "notebook"
  },
  "kernelspec": {
   "display_name": "Python 3",
   "language": "python",
   "name": "python3"
  },
  "language_info": {
   "codemirror_mode": {
    "name": "ipython",
    "version": 3
   },
   "file_extension": ".py",
   "mimetype": "text/x-python",
   "name": "python",
   "nbconvert_exporter": "python",
   "pygments_lexer": "ipython3",
   "version": "3.10.13"
  },
  "papermill": {
   "default_parameters": {},
   "duration": 24197.671182,
   "end_time": "2024-04-19T10:48:19.738141",
   "environment_variables": {},
   "exception": null,
   "input_path": "__notebook__.ipynb",
   "output_path": "__notebook__.ipynb",
   "parameters": {},
   "start_time": "2024-04-19T04:05:02.066959",
   "version": "2.5.0"
  }
 },
 "nbformat": 4,
 "nbformat_minor": 5
}
