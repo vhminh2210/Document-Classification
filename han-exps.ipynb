{
 "cells": [
  {
   "cell_type": "markdown",
   "id": "eba20c81",
   "metadata": {
    "_cell_guid": "b1076dfc-b9ad-4769-8c92-a6c4dae69d19",
    "_uuid": "8f2839f25d086af736a60e9eeb907d3b93b6e0e5",
    "execution": {
     "iopub.execute_input": "2024-04-07T04:41:24.877131Z",
     "iopub.status.busy": "2024-04-07T04:41:24.876742Z",
     "iopub.status.idle": "2024-04-07T04:41:24.883841Z",
     "shell.execute_reply": "2024-04-07T04:41:24.882762Z",
     "shell.execute_reply.started": "2024-04-07T04:41:24.877104Z"
    },
    "papermill": {
     "duration": 0.008775,
     "end_time": "2024-04-17T04:07:47.043823",
     "exception": false,
     "start_time": "2024-04-17T04:07:47.035048",
     "status": "completed"
    },
    "tags": []
   },
   "source": [
    "# Hierarchical Attention Networks for Document Classification\n",
    "PyTorch implementation of **Hierarchical Attention Networks for Document Classification (NAACL 2016)**\n",
    "\n",
    "# Table of Contents\n",
    "* [Preamble](#Preamble)\n",
    "* [Word2Vec Module](#Word2Vec-Module)\n",
    "* [Load Vocabulary and Embeddings](#Load-Vocabulary-and-Embeddings)\n",
    "    * [Negative sampling](#Negative-sampling)\n",
    "    * [GloVe](#GloVe)\n",
    "* [PyTorch Dataset class](#PyTorch-Dataset-class)\n",
    "* [HAN Model](#HAN-Model)\n",
    "* [Training](#Training)"
   ]
  },
  {
   "cell_type": "markdown",
   "id": "accadc68",
   "metadata": {
    "papermill": {
     "duration": 0.007462,
     "end_time": "2024-04-17T04:07:47.059328",
     "exception": false,
     "start_time": "2024-04-17T04:07:47.051866",
     "status": "completed"
    },
    "tags": []
   },
   "source": [
    "# Preamble"
   ]
  },
  {
   "cell_type": "code",
   "execution_count": 1,
   "id": "9f220ade",
   "metadata": {
    "execution": {
     "iopub.execute_input": "2024-04-17T04:07:47.077152Z",
     "iopub.status.busy": "2024-04-17T04:07:47.076516Z",
     "iopub.status.idle": "2024-04-17T04:07:51.476028Z",
     "shell.execute_reply": "2024-04-17T04:07:51.475251Z"
    },
    "papermill": {
     "duration": 4.41175,
     "end_time": "2024-04-17T04:07:51.479096",
     "exception": false,
     "start_time": "2024-04-17T04:07:47.067346",
     "status": "completed"
    },
    "tags": []
   },
   "outputs": [],
   "source": [
    "# Preamble\n",
    "import time, random\n",
    "import re, string\n",
    "import os, sys\n",
    "import math\n",
    "import json\n",
    "\n",
    "import numpy as np\n",
    "import pandas as pd\n",
    "import matplotlib.pyplot as plt\n",
    "\n",
    "import torch\n",
    "import torch.nn as nn\n",
    "from torch.utils.data import Dataset, DataLoader\n",
    "import torch.nn.functional as F\n",
    "\n",
    "from tqdm import tqdm\n",
    "\n",
    "DEVICE = torch.device(\"cuda:0\" if torch.cuda.is_available() else \"cpu\")\n",
    "BATCH_SIZE = 64"
   ]
  },
  {
   "cell_type": "markdown",
   "id": "f86b6cd7",
   "metadata": {
    "papermill": {
     "duration": 0.008249,
     "end_time": "2024-04-17T04:07:51.498406",
     "exception": false,
     "start_time": "2024-04-17T04:07:51.490157",
     "status": "completed"
    },
    "tags": []
   },
   "source": [
    "# Word2Vec Module\n",
    "Following the original paper, we trained the word embeddings using *Negative sampling* technique introduced in **Distributed Representations of Words and Phrases and their Compositionality (NIPS 2013)**"
   ]
  },
  {
   "cell_type": "code",
   "execution_count": 2,
   "id": "45a36e79",
   "metadata": {
    "execution": {
     "iopub.execute_input": "2024-04-17T04:07:51.521405Z",
     "iopub.status.busy": "2024-04-17T04:07:51.520613Z",
     "iopub.status.idle": "2024-04-17T04:07:51.535741Z",
     "shell.execute_reply": "2024-04-17T04:07:51.534411Z"
    },
    "papermill": {
     "duration": 0.027968,
     "end_time": "2024-04-17T04:07:51.538086",
     "exception": false,
     "start_time": "2024-04-17T04:07:51.510118",
     "status": "completed"
    },
    "tags": []
   },
   "outputs": [],
   "source": [
    "# Negative sampling embedding module\n",
    "class NegSamplingEmbedding(nn.Module):\n",
    "    '''\n",
    "    Vocab_size: V\n",
    "    Embedding_size: E\n",
    "    Text_length: L\n",
    "    Batch_size: B\n",
    "    \n",
    "    Consult: https://github.com/mindspore-courses/DeepNLP-models-MindSpore/\n",
    "            blob/main/notebooks/02.Skip-gram-Negative-Sampling.ipynb\n",
    "    '''\n",
    "    def __init__(self, vocab_size, embedding_size):\n",
    "        super(NegSamplingEmbedding, self).__init__()\n",
    "        self.U = nn.Embedding(vocab_size, embedding_size) # Center embedding\n",
    "        self.V = nn.Embedding(vocab_size, embedding_size) # Outside embedding\n",
    "        self.LogSig = nn.LogSigmoid()\n",
    "        \n",
    "    def forward(self, wc, wo, wk, mask_c, mask_o, check_shape= False):\n",
    "        vc = self.V(wc) # Center embedding. Shape: (B, L, E)\n",
    "        uo = self.U(wo) # Outside embedding. Shape: (B, L, C, E)\n",
    "        uk = self.U(wk) # Random embedding. Shape: (B, L, C, E, K)\n",
    "        \n",
    "        if check_shape:\n",
    "            B = uk.shape[0]\n",
    "            L = uk.shape[1]\n",
    "            C = uk.shape[2]\n",
    "            K = uk.shape[3]\n",
    "            E = uk.shape[4]\n",
    "            print(f\"Basic shapes: B = {B}; L = {L}; C = {C}; K = {K}; E = {E}\")\n",
    "            print('*********************************')\n",
    "            print('Shape of vc:', vc.shape)\n",
    "            print('Shape of uo:', uo.shape)\n",
    "            print('Shape of uk:', uk.shape)\n",
    "            print('*********************************')\n",
    "        cmp1 = torch.einsum('blce,ble->blc', uo, vc) # Shape: (B, L, C)\n",
    "        cmp2 = torch.einsum('blcke,ble->blck', uk, vc) # Shape: (B, L, C, K)\n",
    "        \n",
    "        cmp1 = self.LogSig(cmp1) * mask_o # Shape: (B, L, C)\n",
    "        cmp2 = self.LogSig(-cmp2) # Shape: (B, L, C, K)\n",
    "        cmp2 = torch.einsum('blck->blc', cmp2) * mask_o # Shape: (B, L, C)\n",
    "    \n",
    "        cmp1 = torch.einsum('blc->bl', cmp1) # Shape: (B, L)\n",
    "        cmp2 = torch.einsum('blc->bl', cmp2) # Shape: (B, L)\n",
    "        \n",
    "        loss = torch.mean(cmp1 + cmp2)\n",
    "        \n",
    "        if check_shape:\n",
    "            print('Shape of cmp1:', cmp1.shape)\n",
    "            print('Shape of cmp2:', cmp2.shape)\n",
    "            print('Shape of LOSS:', loss.shape)\n",
    "        return -loss"
   ]
  },
  {
   "cell_type": "markdown",
   "id": "38c9c488",
   "metadata": {
    "papermill": {
     "duration": 0.013351,
     "end_time": "2024-04-17T04:07:51.561417",
     "exception": false,
     "start_time": "2024-04-17T04:07:51.548066",
     "status": "completed"
    },
    "tags": []
   },
   "source": [
    "# Load Vocabulary and Embeddings"
   ]
  },
  {
   "cell_type": "code",
   "execution_count": 3,
   "id": "172d50fd",
   "metadata": {
    "execution": {
     "iopub.execute_input": "2024-04-17T04:07:51.584027Z",
     "iopub.status.busy": "2024-04-17T04:07:51.583096Z",
     "iopub.status.idle": "2024-04-17T04:07:51.587888Z",
     "shell.execute_reply": "2024-04-17T04:07:51.587006Z"
    },
    "papermill": {
     "duration": 0.016712,
     "end_time": "2024-04-17T04:07:51.589967",
     "exception": false,
     "start_time": "2024-04-17T04:07:51.573255",
     "status": "completed"
    },
    "tags": []
   },
   "outputs": [],
   "source": [
    "# Embedding type. 'glove' or 'negative_sampling'\n",
    "MODE = 'glove'"
   ]
  },
  {
   "cell_type": "markdown",
   "id": "e59d6dd6",
   "metadata": {
    "papermill": {
     "duration": 0.008048,
     "end_time": "2024-04-17T04:07:51.607586",
     "exception": false,
     "start_time": "2024-04-17T04:07:51.599538",
     "status": "completed"
    },
    "tags": []
   },
   "source": [
    "## Negative sampling\n",
    "Here we load the pretrained vocab and embeddings constructed using **Negative Sampling.**"
   ]
  },
  {
   "cell_type": "code",
   "execution_count": 4,
   "id": "f790c9f0",
   "metadata": {
    "execution": {
     "iopub.execute_input": "2024-04-17T04:07:51.624630Z",
     "iopub.status.busy": "2024-04-17T04:07:51.624298Z",
     "iopub.status.idle": "2024-04-17T04:07:53.244105Z",
     "shell.execute_reply": "2024-04-17T04:07:53.243239Z"
    },
    "papermill": {
     "duration": 1.631099,
     "end_time": "2024-04-17T04:07:53.246606",
     "exception": false,
     "start_time": "2024-04-17T04:07:51.615507",
     "status": "completed"
    },
    "tags": []
   },
   "outputs": [],
   "source": [
    "# Prepare vocab, counter, tokenizer\n",
    "from torchtext.data.utils import get_tokenizer\n",
    "from torchtext.vocab import vocab, build_vocab_from_iterator\n",
    "\n",
    "from collections import Counter\n",
    "\n",
    "tokenizer = get_tokenizer(\"basic_english\")\n",
    "\n",
    "vocab_ns = torch.load('/kaggle/input/hlt-word2vec/vocab.pth')"
   ]
  },
  {
   "cell_type": "code",
   "execution_count": 5,
   "id": "04bedc4a",
   "metadata": {
    "execution": {
     "iopub.execute_input": "2024-04-17T04:07:53.264308Z",
     "iopub.status.busy": "2024-04-17T04:07:53.263765Z",
     "iopub.status.idle": "2024-04-17T04:07:53.269744Z",
     "shell.execute_reply": "2024-04-17T04:07:53.268936Z"
    },
    "papermill": {
     "duration": 0.01703,
     "end_time": "2024-04-17T04:07:53.271896",
     "exception": false,
     "start_time": "2024-04-17T04:07:53.254866",
     "status": "completed"
    },
    "tags": []
   },
   "outputs": [],
   "source": [
    "# Task configs\n",
    "VOCAB_SIZE = len(vocab_ns)\n",
    "EMBEDDING_DIM = 200\n",
    "GRU_DIM = 50\n",
    "NUM_CLASSES = 5"
   ]
  },
  {
   "cell_type": "code",
   "execution_count": 6,
   "id": "88491151",
   "metadata": {
    "execution": {
     "iopub.execute_input": "2024-04-17T04:07:53.288830Z",
     "iopub.status.busy": "2024-04-17T04:07:53.288545Z",
     "iopub.status.idle": "2024-04-17T04:07:55.193420Z",
     "shell.execute_reply": "2024-04-17T04:07:55.192372Z"
    },
    "papermill": {
     "duration": 1.916462,
     "end_time": "2024-04-17T04:07:55.195986",
     "exception": false,
     "start_time": "2024-04-17T04:07:53.279524",
     "status": "completed"
    },
    "tags": []
   },
   "outputs": [],
   "source": [
    "# Prepare word embeddings\n",
    "WORD2VEC_PATH = '/kaggle/input/hlt-word2vec/word2vec.pth'\n",
    "word2vec = NegSamplingEmbedding(VOCAB_SIZE, EMBEDDING_DIM)\n",
    "word2vec.load_state_dict(torch.load(WORD2VEC_PATH, map_location= DEVICE))\n",
    "word2vec.eval()\n",
    "\n",
    "W_e = word2vec.V.weight.detach().to(DEVICE)"
   ]
  },
  {
   "cell_type": "markdown",
   "id": "d650edd7",
   "metadata": {
    "papermill": {
     "duration": 0.007851,
     "end_time": "2024-04-17T04:07:55.212040",
     "exception": false,
     "start_time": "2024-04-17T04:07:55.204189",
     "status": "completed"
    },
    "tags": []
   },
   "source": [
    "## GloVe\n",
    "Here we import pretrained word embeddings **GloVe**. We plan on evaluating HAN using GloVe 6B $(D = 200)$ and GloVe 42B $(D = 300)$."
   ]
  },
  {
   "cell_type": "code",
   "execution_count": 7,
   "id": "95937e20",
   "metadata": {
    "execution": {
     "iopub.execute_input": "2024-04-17T04:07:55.229078Z",
     "iopub.status.busy": "2024-04-17T04:07:55.228775Z",
     "iopub.status.idle": "2024-04-17T04:07:55.234026Z",
     "shell.execute_reply": "2024-04-17T04:07:55.233184Z"
    },
    "papermill": {
     "duration": 0.016161,
     "end_time": "2024-04-17T04:07:55.235835",
     "exception": false,
     "start_time": "2024-04-17T04:07:55.219674",
     "status": "completed"
    },
    "tags": []
   },
   "outputs": [],
   "source": [
    "# Double check vocab - embedding matching\n",
    "def arr_equal_check(arr1, arr2):\n",
    "    if len(arr1) != len(arr2):\n",
    "        return False\n",
    "    \n",
    "    for i in range(len(arr1)):\n",
    "        if arr1[i] != arr2[i]:\n",
    "            return False\n",
    "        \n",
    "    return True"
   ]
  },
  {
   "cell_type": "code",
   "execution_count": 8,
   "id": "df667948",
   "metadata": {
    "execution": {
     "iopub.execute_input": "2024-04-17T04:07:55.252519Z",
     "iopub.status.busy": "2024-04-17T04:07:55.252244Z",
     "iopub.status.idle": "2024-04-17T04:08:35.152882Z",
     "shell.execute_reply": "2024-04-17T04:08:35.152070Z"
    },
    "papermill": {
     "duration": 39.911853,
     "end_time": "2024-04-17T04:08:35.155466",
     "exception": false,
     "start_time": "2024-04-17T04:07:55.243613",
     "status": "completed"
    },
    "tags": []
   },
   "outputs": [],
   "source": [
    "# Load GloVe embeddings\n",
    "glove_txt = '/kaggle/input/glove-global-vectors-for-word-representation/glove.6B.200d.txt'\n",
    "with open(glove_txt, 'r') as file:\n",
    "    lines = file.readlines()\n",
    "    file.close()\n",
    "\n",
    "W_list = []\n",
    "word_list = ['<unk>']\n",
    "freq = {} # Construct vocab from dict \n",
    "\n",
    "for line in lines:\n",
    "    words = line.split(' ')\n",
    "    word = words[0]\n",
    "    word_list.append(word)\n",
    "    freq[word] = 1\n",
    "    \n",
    "    arr = np.array(words[1:], dtype= float)\n",
    "    W_list.append(torch.tensor(arr, dtype= torch.float))\n",
    "    \n",
    "unk_embed = [sum(W_list) / len(W_list)]\n",
    "W_list = unk_embed + W_list\n",
    "\n",
    "W_glove = torch.stack(W_list).to(DEVICE)\n",
    "vocab_glove = vocab(\n",
    "    freq,\n",
    "    specials= [\"<unk>\"]\n",
    ")\n",
    "vocab_glove.set_default_index(vocab_glove[\"<unk>\"])\n",
    "\n",
    "# Make sure vocab match word embeddings\n",
    "assert arr_equal_check(vocab_glove.get_itos(), word_list)"
   ]
  },
  {
   "cell_type": "markdown",
   "id": "bbfac45d",
   "metadata": {
    "papermill": {
     "duration": 0.007683,
     "end_time": "2024-04-17T04:08:35.171346",
     "exception": false,
     "start_time": "2024-04-17T04:08:35.163663",
     "status": "completed"
    },
    "tags": []
   },
   "source": [
    "# PyTorch Dataset class"
   ]
  },
  {
   "cell_type": "code",
   "execution_count": 9,
   "id": "ee5e3253",
   "metadata": {
    "execution": {
     "iopub.execute_input": "2024-04-17T04:08:35.188538Z",
     "iopub.status.busy": "2024-04-17T04:08:35.188240Z",
     "iopub.status.idle": "2024-04-17T04:08:35.213698Z",
     "shell.execute_reply": "2024-04-17T04:08:35.212735Z"
    },
    "papermill": {
     "duration": 0.036806,
     "end_time": "2024-04-17T04:08:35.215860",
     "exception": false,
     "start_time": "2024-04-17T04:08:35.179054",
     "status": "completed"
    },
    "tags": []
   },
   "outputs": [],
   "source": [
    "# YELP Dataset\n",
    "def collate_batch(batch):\n",
    "    '''\n",
    "    Collate batch with zero-padding\n",
    "    Consult: https://pytorch.org/tutorials/beginner/text_sentiment_ngrams_tutorial.html\n",
    "    '''\n",
    "    texts = []\n",
    "    labels = []\n",
    "    mask = []\n",
    "    for _text, _label in batch:\n",
    "        texts.append(_text)\n",
    "        labels.append(_label)\n",
    "        \n",
    "    L = max([len(text) for text in texts])\n",
    "    \n",
    "    for i in range(len(texts)):\n",
    "        l = texts[i].shape[0]\n",
    "        cur_mask = torch.ones(L)\n",
    "        if l < L:\n",
    "            cur_mask[l:L] = 0\n",
    "            # Zero-padding text, only on one side.\n",
    "            texts[i] = F.pad(texts[i], (0, L-l), 'constant', 0)\n",
    "            \n",
    "        mask.append(cur_mask)\n",
    "    \n",
    "    texts = torch.stack(texts)\n",
    "    labels = torch.stack(labels)\n",
    "    mask = torch.stack(mask)\n",
    "    return texts, labels, mask\n",
    "\n",
    "def collate_batch_HAN(batch):\n",
    "    return batch\n",
    "\n",
    "class YELPDataset(Dataset):\n",
    "    def __init__(self, df, vocab, tokenizer, df_sort= True, punct_splt= False):\n",
    "        self.df = df\n",
    "        self.tokenizer = tokenizer\n",
    "        self.vocab = vocab\n",
    "        self.len_vocab = len(vocab)\n",
    "        self.punct_splt = punct_splt\n",
    "        if df_sort:\n",
    "            self.sort_df_by_txt_len()\n",
    "    \n",
    "    def sort_df_by_txt_len(self):\n",
    "        len_list = [-len(self.df.iloc[i]['text']) for i in range(len(self.df))]\n",
    "        self.df = self.df.iloc[np.argsort(len_list)]\n",
    "    \n",
    "    def __len__(self):\n",
    "        return len(self.df)\n",
    "\n",
    "    def text_pipeline(self, x):\n",
    "        return self.vocab(self.tokenizer(x))\n",
    "\n",
    "    def label_pipeline(self, x):\n",
    "        return int(x) - 1\n",
    "    \n",
    "    def __getitem__(self, idx):\n",
    "        if not self.punct_splt:\n",
    "            txt = self.text_pipeline(self.df.iloc[idx]['text'])\n",
    "            txt = torch.tensor(txt, dtype= torch.int64)\n",
    "\n",
    "            label = self.label_pipeline(self.df.iloc[idx]['stars'])\n",
    "            label = torch.tensor(label, dtype= torch.int64)\n",
    "\n",
    "            return (txt, label)\n",
    "    \n",
    "        else:\n",
    "            txt = self.df.iloc[idx]['text']\n",
    "            sentences = re.split(\"[\" + string.punctuation + \"]+\", txt)\n",
    "            L = 0\n",
    "            X = []\n",
    "            mask = []\n",
    "            \n",
    "            for s in sentences:\n",
    "                l = len(s)\n",
    "                if l == 0:\n",
    "                    continue\n",
    "                L = max(L, l)\n",
    "                X.append(torch.tensor(self.text_pipeline(s), dtype= torch.int64))\n",
    "                \n",
    "            if len(X) == 0:\n",
    "                return (None, None, None)\n",
    "            \n",
    "            for i in range(len(X)):\n",
    "                l = X[i].shape[0]\n",
    "                cur_mask = torch.ones(L)\n",
    "                \n",
    "                # Zero-padding sentence\n",
    "                if(l < L):\n",
    "                    # Zero-padding sentence, only on one side.\n",
    "                    X[i] = F.pad(X[i], (0, L - l), 'constant', 0)\n",
    "                    cur_mask[l:L] = 0\n",
    "                \n",
    "                mask.append(cur_mask)\n",
    "                    \n",
    "            X = torch.stack(X)\n",
    "            mask = torch.stack(mask)\n",
    "            \n",
    "            label = self.label_pipeline(self.df.iloc[idx]['stars'])\n",
    "            label = torch.tensor(label, dtype= torch.int64)\n",
    "            \n",
    "            return (X, label, mask)"
   ]
  },
  {
   "cell_type": "code",
   "execution_count": 10,
   "id": "71d11e0e",
   "metadata": {
    "execution": {
     "iopub.execute_input": "2024-04-17T04:08:35.233147Z",
     "iopub.status.busy": "2024-04-17T04:08:35.232869Z",
     "iopub.status.idle": "2024-04-17T04:09:12.514361Z",
     "shell.execute_reply": "2024-04-17T04:09:12.513289Z"
    },
    "papermill": {
     "duration": 37.30202,
     "end_time": "2024-04-17T04:09:12.525974",
     "exception": false,
     "start_time": "2024-04-17T04:08:35.223954",
     "status": "completed"
    },
    "tags": []
   },
   "outputs": [
    {
     "name": "stdout",
     "output_type": "stream",
     "text": [
      "Number of datapoints: 1569264\n"
     ]
    },
    {
     "data": {
      "text/html": [
       "<div>\n",
       "<style scoped>\n",
       "    .dataframe tbody tr th:only-of-type {\n",
       "        vertical-align: middle;\n",
       "    }\n",
       "\n",
       "    .dataframe tbody tr th {\n",
       "        vertical-align: top;\n",
       "    }\n",
       "\n",
       "    .dataframe thead th {\n",
       "        text-align: right;\n",
       "    }\n",
       "</style>\n",
       "<table border=\"1\" class=\"dataframe\">\n",
       "  <thead>\n",
       "    <tr style=\"text-align: right;\">\n",
       "      <th></th>\n",
       "      <th>review_id</th>\n",
       "      <th>user_id</th>\n",
       "      <th>business_id</th>\n",
       "      <th>stars</th>\n",
       "      <th>useful</th>\n",
       "      <th>funny</th>\n",
       "      <th>cool</th>\n",
       "      <th>text</th>\n",
       "      <th>date</th>\n",
       "    </tr>\n",
       "  </thead>\n",
       "  <tbody>\n",
       "    <tr>\n",
       "      <th>0</th>\n",
       "      <td>KU_O5udG6zpxOg-VcAEodg</td>\n",
       "      <td>mh_-eMZ6K5RLWhZyISBhwA</td>\n",
       "      <td>XQfwVwDr-v0ZS3_CbbE5Xw</td>\n",
       "      <td>3.0</td>\n",
       "      <td>0</td>\n",
       "      <td>0</td>\n",
       "      <td>0</td>\n",
       "      <td>If you decide to eat here, just be aware it is...</td>\n",
       "      <td>2018-07-07 22:09:11</td>\n",
       "    </tr>\n",
       "    <tr>\n",
       "      <th>1</th>\n",
       "      <td>BiTunyQ73aT9WBnpR9DZGw</td>\n",
       "      <td>OyoGAe7OKpv6SyGZT5g77Q</td>\n",
       "      <td>7ATYjTIgM3jUlt4UM3IypQ</td>\n",
       "      <td>5.0</td>\n",
       "      <td>1</td>\n",
       "      <td>0</td>\n",
       "      <td>1</td>\n",
       "      <td>I've taken a lot of spin classes over the year...</td>\n",
       "      <td>2012-01-03 15:28:18</td>\n",
       "    </tr>\n",
       "    <tr>\n",
       "      <th>2</th>\n",
       "      <td>saUsX_uimxRlCVr67Z4Jig</td>\n",
       "      <td>8g_iMtfSiwikVnbP2etR0A</td>\n",
       "      <td>YjUWPpI6HXG530lwP-fb2A</td>\n",
       "      <td>3.0</td>\n",
       "      <td>0</td>\n",
       "      <td>0</td>\n",
       "      <td>0</td>\n",
       "      <td>Family diner. Had the buffet. Eclectic assortm...</td>\n",
       "      <td>2014-02-05 20:30:30</td>\n",
       "    </tr>\n",
       "    <tr>\n",
       "      <th>3</th>\n",
       "      <td>AqPFMleE6RsU23_auESxiA</td>\n",
       "      <td>_7bHUi9Uuf5__HHc_Q8guQ</td>\n",
       "      <td>kxX2SOes4o-D3ZQBkiMRfA</td>\n",
       "      <td>5.0</td>\n",
       "      <td>1</td>\n",
       "      <td>0</td>\n",
       "      <td>1</td>\n",
       "      <td>Wow!  Yummy, different,  delicious.   Our favo...</td>\n",
       "      <td>2015-01-04 00:01:03</td>\n",
       "    </tr>\n",
       "    <tr>\n",
       "      <th>4</th>\n",
       "      <td>Sx8TMOWLNuJBWer-0pcmoA</td>\n",
       "      <td>bcjbaE6dDog4jkNY91ncLQ</td>\n",
       "      <td>e4Vwtrqf-wpJfwesgvdgxQ</td>\n",
       "      <td>4.0</td>\n",
       "      <td>1</td>\n",
       "      <td>0</td>\n",
       "      <td>1</td>\n",
       "      <td>Cute interior and owner (?) gave us tour of up...</td>\n",
       "      <td>2017-01-14 20:54:15</td>\n",
       "    </tr>\n",
       "  </tbody>\n",
       "</table>\n",
       "</div>"
      ],
      "text/plain": [
       "                review_id                 user_id             business_id  \\\n",
       "0  KU_O5udG6zpxOg-VcAEodg  mh_-eMZ6K5RLWhZyISBhwA  XQfwVwDr-v0ZS3_CbbE5Xw   \n",
       "1  BiTunyQ73aT9WBnpR9DZGw  OyoGAe7OKpv6SyGZT5g77Q  7ATYjTIgM3jUlt4UM3IypQ   \n",
       "2  saUsX_uimxRlCVr67Z4Jig  8g_iMtfSiwikVnbP2etR0A  YjUWPpI6HXG530lwP-fb2A   \n",
       "3  AqPFMleE6RsU23_auESxiA  _7bHUi9Uuf5__HHc_Q8guQ  kxX2SOes4o-D3ZQBkiMRfA   \n",
       "4  Sx8TMOWLNuJBWer-0pcmoA  bcjbaE6dDog4jkNY91ncLQ  e4Vwtrqf-wpJfwesgvdgxQ   \n",
       "\n",
       "   stars  useful  funny  cool  \\\n",
       "0    3.0       0      0     0   \n",
       "1    5.0       1      0     1   \n",
       "2    3.0       0      0     0   \n",
       "3    5.0       1      0     1   \n",
       "4    4.0       1      0     1   \n",
       "\n",
       "                                                text                 date  \n",
       "0  If you decide to eat here, just be aware it is...  2018-07-07 22:09:11  \n",
       "1  I've taken a lot of spin classes over the year...  2012-01-03 15:28:18  \n",
       "2  Family diner. Had the buffet. Eclectic assortm...  2014-02-05 20:30:30  \n",
       "3  Wow!  Yummy, different,  delicious.   Our favo...  2015-01-04 00:01:03  \n",
       "4  Cute interior and owner (?) gave us tour of up...  2017-01-14 20:54:15  "
      ]
     },
     "execution_count": 10,
     "metadata": {},
     "output_type": "execute_result"
    }
   ],
   "source": [
    "# CSV Preparation\n",
    "data_file = open(\"/kaggle/input/yelp-dataset/yelp_academic_dataset_review.json\")\n",
    "data = []\n",
    "\n",
    "cnt = 1569264 # Size of YELP 2015 dataset\n",
    "# cnt = 10000\n",
    "\n",
    "for line in data_file:\n",
    "    data.append(json.loads(line))\n",
    "    cnt -= 1\n",
    "    if cnt == 0:\n",
    "        break\n",
    "    \n",
    "data_file.close()\n",
    "df = pd.DataFrame(data)\n",
    "\n",
    "print(\"Number of datapoints:\", len(df))\n",
    "df.head()"
   ]
  },
  {
   "cell_type": "code",
   "execution_count": 11,
   "id": "7ca01f81",
   "metadata": {
    "execution": {
     "iopub.execute_input": "2024-04-17T04:09:12.545865Z",
     "iopub.status.busy": "2024-04-17T04:09:12.545558Z",
     "iopub.status.idle": "2024-04-17T04:09:15.113166Z",
     "shell.execute_reply": "2024-04-17T04:09:15.112239Z"
    },
    "papermill": {
     "duration": 2.580157,
     "end_time": "2024-04-17T04:09:15.115383",
     "exception": false,
     "start_time": "2024-04-17T04:09:12.535226",
     "status": "completed"
    },
    "tags": []
   },
   "outputs": [
    {
     "name": "stdout",
     "output_type": "stream",
     "text": [
      "Size of trainset: 1255411\n",
      "Size of valset: 15692\n",
      "Size of testset: 298161\n"
     ]
    }
   ],
   "source": [
    "# Train-val-test splits\n",
    "df_size = len(df)\n",
    "idx = [x for x in range(df_size)]\n",
    "random.Random(555).shuffle(idx)\n",
    "\n",
    "train_num = int(df_size * 0.8)\n",
    "val_num = int(df_size * 0.01)\n",
    "test_num = int(df_size * 0.1)\n",
    "\n",
    "# print(train_num, val_num, test_num)\n",
    "\n",
    "train_idx = idx[:train_num]\n",
    "val_idx = idx[train_num : (train_num + val_num)]\n",
    "test_idx = idx[(train_num + val_num) : ]\n",
    "\n",
    "train_df = df.iloc[train_idx]\n",
    "val_df = df.iloc[val_idx]\n",
    "test_df = df.iloc[test_idx]\n",
    "\n",
    "print('Size of trainset:', len(train_df))\n",
    "print('Size of valset:', len(val_df))\n",
    "print('Size of testset:', len(test_df))"
   ]
  },
  {
   "cell_type": "code",
   "execution_count": 12,
   "id": "946af59d",
   "metadata": {
    "execution": {
     "iopub.execute_input": "2024-04-17T04:09:15.133990Z",
     "iopub.status.busy": "2024-04-17T04:09:15.133678Z",
     "iopub.status.idle": "2024-04-17T04:10:56.507856Z",
     "shell.execute_reply": "2024-04-17T04:10:56.506755Z"
    },
    "papermill": {
     "duration": 101.394401,
     "end_time": "2024-04-17T04:10:56.518327",
     "exception": false,
     "start_time": "2024-04-17T04:09:15.123926",
     "status": "completed"
    },
    "tags": []
   },
   "outputs": [
    {
     "name": "stdout",
     "output_type": "stream",
     "text": [
      "Shape of Texts: torch.Size([119, 171])\n",
      "Shape of Labels: torch.Size([])\n",
      "Shape of Mask: torch.Size([119, 171])\n"
     ]
    }
   ],
   "source": [
    "# Dataset, Dataloader\n",
    "if MODE == 'glove':\n",
    "    data_vocab = vocab_glove\n",
    "if MODE == 'negative_sampling':\n",
    "    data_vocab = vocab_ns\n",
    "\n",
    "trainset = YELPDataset(train_df, data_vocab, tokenizer, punct_splt= True)\n",
    "valset = YELPDataset(val_df, data_vocab, tokenizer, punct_splt= True)\n",
    "testset = YELPDataset(test_df, data_vocab, tokenizer, punct_splt= True)\n",
    "\n",
    "trainloader = DataLoader(trainset, batch_size= BATCH_SIZE, \n",
    "                         shuffle= False, pin_memory= True, collate_fn= collate_batch_HAN)\n",
    "valloader = DataLoader(valset, batch_size= BATCH_SIZE, \n",
    "                         shuffle= False, pin_memory= True, collate_fn= collate_batch_HAN)\n",
    "testloader = DataLoader(testset, batch_size= BATCH_SIZE, \n",
    "                         shuffle= False, pin_memory= True, collate_fn= collate_batch_HAN)\n",
    "\n",
    "for batch in trainloader:\n",
    "    X, y, mask = batch[0]\n",
    "    print(\"Shape of Texts:\", X.shape)\n",
    "    print(\"Shape of Labels:\", y.shape)\n",
    "    print(\"Shape of Mask:\", mask.shape)\n",
    "    break"
   ]
  },
  {
   "cell_type": "markdown",
   "id": "d738cc8b",
   "metadata": {
    "papermill": {
     "duration": 0.00804,
     "end_time": "2024-04-17T04:10:56.534933",
     "exception": false,
     "start_time": "2024-04-17T04:10:56.526893",
     "status": "completed"
    },
    "tags": []
   },
   "source": [
    "# HAN Model"
   ]
  },
  {
   "cell_type": "code",
   "execution_count": 13,
   "id": "9e9aee18",
   "metadata": {
    "execution": {
     "iopub.execute_input": "2024-04-17T04:10:56.553192Z",
     "iopub.status.busy": "2024-04-17T04:10:56.552868Z",
     "iopub.status.idle": "2024-04-17T04:10:56.568565Z",
     "shell.execute_reply": "2024-04-17T04:10:56.567727Z"
    },
    "papermill": {
     "duration": 0.026862,
     "end_time": "2024-04-17T04:10:56.570423",
     "exception": false,
     "start_time": "2024-04-17T04:10:56.543561",
     "status": "completed"
    },
    "tags": []
   },
   "outputs": [],
   "source": [
    "class HANModel(nn.Module):\n",
    "    def __init__(self, W_e, embedding_dim, gru_dim, \n",
    "                 num_classes):\n",
    "        super(HANModel, self).__init__()\n",
    "        \n",
    "        DEVICE = torch.device(\"cuda:0\" if torch.cuda.is_available() else \"cpu\")\n",
    "        \n",
    "        # Initialize\n",
    "        self.E = embedding_dim\n",
    "        self.G = gru_dim\n",
    "        self.num_classes = num_classes\n",
    "        \n",
    "        # Pretrained word embeddings\n",
    "        self.W_e = W_e\n",
    "        \n",
    "        # Word-level attention\n",
    "        self.WordEncoder = nn.GRU(\n",
    "            input_size= embedding_dim,\n",
    "            hidden_size= gru_dim,\n",
    "            batch_first= True,\n",
    "            bidirectional= True\n",
    "        )\n",
    "        self.WordMLP = nn.Sequential(\n",
    "            nn.Linear(2*gru_dim, 2*gru_dim),\n",
    "            nn.Tanh()\n",
    "        )\n",
    "        self.u_w = nn.Parameter(torch.randn(2*gru_dim))\n",
    "        \n",
    "        # Sequence-level attention\n",
    "        self.SeqEncoder = nn.GRU(\n",
    "            input_size= 2*gru_dim,\n",
    "            hidden_size= gru_dim,\n",
    "            batch_first= True,\n",
    "            bidirectional= True\n",
    "        )\n",
    "        self.SeqMLP = nn.Sequential(\n",
    "            nn.Linear(2*gru_dim, 2*gru_dim),\n",
    "            nn.Tanh()\n",
    "        )\n",
    "        self.u_s = nn.Parameter(torch.randn(2*gru_dim))\n",
    "        \n",
    "        # Classifier\n",
    "        self.classifier = nn.Sequential(\n",
    "            nn.Linear(2*gru_dim, num_classes),\n",
    "            nn.Softmax()\n",
    "        )\n",
    "        \n",
    "    def forward(self, text, mask, check_shape= False):\n",
    "        '''\n",
    "        <text> is expected to have shape (S, L)\n",
    "        \n",
    "        Number of sentence: S\n",
    "        Max sentence length: L\n",
    "        Embedding size: E\n",
    "        GRU dimension: G -> Bidirectional: 2G\n",
    "        '''\n",
    "        S = text.shape[0]\n",
    "        L = text.shape[1]\n",
    "        \n",
    "        x = self.W_e[text] # Text embedding, Shape: (S, L, E)\n",
    "        hW,_ = self.WordEncoder(x) # Word annotation. Shape: (S, L, 2G)\n",
    "        uW = self.WordMLP(hW) # Word hidden representation. Shape: (S, L, 2G)\n",
    "\n",
    "        # Attention weight - Needs verifications\n",
    "        alphaW = nn.Softmax()(torch.einsum('slg,g->sl', uW, self.u_w) * mask) # Shape: (S, L)\n",
    "        \n",
    "        # Sentence vector\n",
    "        s = torch.einsum('slg,sl->sg', hW, alphaW) # Shape: (S, 2G)\n",
    "        hS,_ = self.SeqEncoder(s) # Sentence annotation. Shape: (S, 2G)\n",
    "        uS = self.SeqMLP(hS) # Sentence hidden representation. Shape: (S, 2G)\n",
    "        \n",
    "        # Attention weight - Needs verifications\n",
    "        alphaS = nn.Softmax()(torch.matmul(uS, self.u_s)) # Shape: (S)\n",
    "        \n",
    "        # Document vector\n",
    "        v = torch.matmul(alphaS, hS)\n",
    "        \n",
    "        logits = self.classifier(v)\n",
    "        \n",
    "        if check_shape:\n",
    "            print(f'Basic shapes: S = {S}, E = {self.E}, L = {L}, G = {self.G}')\n",
    "            print('*********************************')\n",
    "            print('Shape of x:', x.shape)\n",
    "            print('Shape of hW:', hW.shape)\n",
    "            print('Shape of uW:', uW.shape)\n",
    "            print('Shape of alphaW:', alphaW.shape)\n",
    "            print('*********************************')\n",
    "            print('Shape of s:', s.shape)\n",
    "            print('Shape of hS:', hS.shape)\n",
    "            print('Shape of uS:', uS.shape)\n",
    "            print('Shape of alphaS:', alphaS.shape)\n",
    "            print('*********************************')\n",
    "            print('Shape of v:', v.shape)\n",
    "            print('Shape of logits:', logits.shape)\n",
    "        \n",
    "        return logits\n",
    "        "
   ]
  },
  {
   "cell_type": "code",
   "execution_count": 14,
   "id": "cac3c9f3",
   "metadata": {
    "execution": {
     "iopub.execute_input": "2024-04-17T04:10:56.588072Z",
     "iopub.status.busy": "2024-04-17T04:10:56.587813Z",
     "iopub.status.idle": "2024-04-17T04:10:56.592347Z",
     "shell.execute_reply": "2024-04-17T04:10:56.591594Z"
    },
    "papermill": {
     "duration": 0.015808,
     "end_time": "2024-04-17T04:10:56.594407",
     "exception": false,
     "start_time": "2024-04-17T04:10:56.578599",
     "status": "completed"
    },
    "tags": []
   },
   "outputs": [],
   "source": [
    "# Xavier normal initialization\n",
    "def xavier_normal_init(m):\n",
    "    '''\n",
    "    Xavier normal initialization.\n",
    "    '''\n",
    "    if type(m) == nn.Linear or type(m) == nn.Parameter:\n",
    "        print(m)\n",
    "        torch.nn.init.xavier_normal_(m.weight)"
   ]
  },
  {
   "cell_type": "code",
   "execution_count": 15,
   "id": "daf5fa49",
   "metadata": {
    "execution": {
     "iopub.execute_input": "2024-04-17T04:10:56.612540Z",
     "iopub.status.busy": "2024-04-17T04:10:56.612283Z",
     "iopub.status.idle": "2024-04-17T04:10:57.589775Z",
     "shell.execute_reply": "2024-04-17T04:10:57.588776Z"
    },
    "papermill": {
     "duration": 0.98953,
     "end_time": "2024-04-17T04:10:57.592525",
     "exception": false,
     "start_time": "2024-04-17T04:10:56.602995",
     "status": "completed"
    },
    "tags": []
   },
   "outputs": [
    {
     "name": "stdout",
     "output_type": "stream",
     "text": [
      "*********************************\n",
      "Submodules having Xavier normal initialization:\n",
      "Linear(in_features=100, out_features=100, bias=True)\n",
      "Linear(in_features=100, out_features=100, bias=True)\n",
      "Linear(in_features=100, out_features=5, bias=True)\n",
      "*********************************\n",
      "Basic shapes: S = 119, E = 200, L = 171, G = 50\n",
      "*********************************\n",
      "Shape of x: torch.Size([119, 171, 200])\n",
      "Shape of hW: torch.Size([119, 171, 100])\n",
      "Shape of uW: torch.Size([119, 171, 100])\n",
      "Shape of alphaW: torch.Size([119, 171])\n",
      "*********************************\n",
      "Shape of s: torch.Size([119, 100])\n",
      "Shape of hS: torch.Size([119, 100])\n",
      "Shape of uS: torch.Size([119, 100])\n",
      "Shape of alphaS: torch.Size([119])\n",
      "*********************************\n",
      "Shape of v: torch.Size([100])\n",
      "Shape of logits: torch.Size([5])\n",
      "*********************************\n",
      "HANModel(\n",
      "  (WordEncoder): GRU(200, 50, batch_first=True, bidirectional=True)\n",
      "  (WordMLP): Sequential(\n",
      "    (0): Linear(in_features=100, out_features=100, bias=True)\n",
      "    (1): Tanh()\n",
      "  )\n",
      "  (SeqEncoder): GRU(100, 50, batch_first=True, bidirectional=True)\n",
      "  (SeqMLP): Sequential(\n",
      "    (0): Linear(in_features=100, out_features=100, bias=True)\n",
      "    (1): Tanh()\n",
      "  )\n",
      "  (classifier): Sequential(\n",
      "    (0): Linear(in_features=100, out_features=5, bias=True)\n",
      "    (1): Softmax(dim=None)\n",
      "  )\n",
      ")\n"
     ]
    },
    {
     "name": "stderr",
     "output_type": "stream",
     "text": [
      "/opt/conda/lib/python3.10/site-packages/torch/nn/modules/module.py:1518: UserWarning: Implicit dimension choice for softmax has been deprecated. Change the call to include dim=X as an argument.\n",
      "  return self._call_impl(*args, **kwargs)\n"
     ]
    }
   ],
   "source": [
    "model = HANModel(W_glove, EMBEDDING_DIM, GRU_DIM, NUM_CLASSES).to(DEVICE)\n",
    "print('*********************************')\n",
    "print('Submodules having Xavier normal initialization:')\n",
    "model.apply(xavier_normal_init)\n",
    "print('*********************************')\n",
    "\n",
    "for batch in trainloader:\n",
    "    X, y, mask = batch[0]\n",
    "    X, mask = X.to(DEVICE), mask.to(DEVICE)\n",
    "    logits = model(X, mask, check_shape= True)\n",
    "    break\n",
    "    \n",
    "print('*********************************')\n",
    "print(model)"
   ]
  },
  {
   "cell_type": "markdown",
   "id": "403a3050",
   "metadata": {
    "papermill": {
     "duration": 0.008615,
     "end_time": "2024-04-17T04:10:57.610142",
     "exception": false,
     "start_time": "2024-04-17T04:10:57.601527",
     "status": "completed"
    },
    "tags": []
   },
   "source": [
    "# Training"
   ]
  },
  {
   "cell_type": "code",
   "execution_count": 16,
   "id": "a9af7d1b",
   "metadata": {
    "execution": {
     "iopub.execute_input": "2024-04-17T04:10:57.629359Z",
     "iopub.status.busy": "2024-04-17T04:10:57.629037Z",
     "iopub.status.idle": "2024-04-17T04:10:59.936493Z",
     "shell.execute_reply": "2024-04-17T04:10:59.935686Z"
    },
    "papermill": {
     "duration": 2.319901,
     "end_time": "2024-04-17T04:10:59.939096",
     "exception": false,
     "start_time": "2024-04-17T04:10:57.619195",
     "status": "completed"
    },
    "tags": []
   },
   "outputs": [],
   "source": [
    "# Training configs\n",
    "LR = 1e-3\n",
    "MOMENTUM = 0.9\n",
    "EPOCHS = 3\n",
    "ITER = EPOCHS * len(trainloader)\n",
    "OPTIMIZER = torch.optim.AdamW(model.parameters(), lr= LR)\n",
    "# OPTIMIZER = torch.optim.SGD(model.parameters(), lr= LR, momentum= MOMENTUM, nesterov= True)\n",
    "SCHEDULER = lr_scheduler = torch.optim.lr_scheduler.CosineAnnealingLR(OPTIMIZER, T_max = ITER)\n",
    "LOSS_FN = nn.CrossEntropyLoss()\n",
    "RECORD = 0.0"
   ]
  },
  {
   "cell_type": "code",
   "execution_count": 17,
   "id": "d494e41b",
   "metadata": {
    "execution": {
     "iopub.execute_input": "2024-04-17T04:10:59.958277Z",
     "iopub.status.busy": "2024-04-17T04:10:59.957816Z",
     "iopub.status.idle": "2024-04-17T04:10:59.972920Z",
     "shell.execute_reply": "2024-04-17T04:10:59.972057Z"
    },
    "papermill": {
     "duration": 0.02707,
     "end_time": "2024-04-17T04:10:59.975049",
     "exception": false,
     "start_time": "2024-04-17T04:10:59.947979",
     "status": "completed"
    },
    "tags": []
   },
   "outputs": [],
   "source": [
    "# Train procedures\n",
    "def test(testloader, model, loss_fn):\n",
    "    model.eval()\n",
    "    test_loss = 0\n",
    "    correct = 0\n",
    "    bcnt = 0\n",
    "    cnt = 0\n",
    "    \n",
    "    for i, batch in enumerate(testloader):\n",
    "        tmp_loss = 0\n",
    "        cnt += 1\n",
    "        for (X, y, mask) in batch:\n",
    "            if X is None:\n",
    "                continue\n",
    "            bcnt += 1\n",
    "            X, y, mask = X.to(DEVICE), y.to(DEVICE), mask.to(DEVICE)\n",
    "            pred = model(X, mask)\n",
    "            tmp_loss += loss_fn(logits, y).item()\n",
    "            correct += (pred.argmax(0) == y).type(torch.float).sum().item()\n",
    "        tmp_loss /= len(batch)\n",
    "        test_loss += tmp_loss\n",
    "        \n",
    "    test_loss /= len(testloader)\n",
    "    accuracy = correct / len(testloader.dataset)\n",
    "    \n",
    "    return test_loss, accuracy\n",
    "\n",
    "def train(trainloader, valloader, model, optimizer, scheduler, loss_fn, val_freq):\n",
    "    global RECORD\n",
    "    model.train()\n",
    "    tloss = []\n",
    "    cur_acc = 0\n",
    "    for i, batch in enumerate(trainloader):\n",
    "        loss = 0\n",
    "        for (X, y, mask) in batch:\n",
    "            if X is None:\n",
    "                continue\n",
    "            X, y, mask = X.to(DEVICE), y.to(DEVICE), mask.to(DEVICE)\n",
    "            logits = model(X, mask)\n",
    "            loss += loss_fn(logits, y)\n",
    "        loss /= len(batch)\n",
    "        \n",
    "        if val_freq > 0 and i % val_freq == 0:\n",
    "            tloss.append(loss.cpu().detach().numpy())\n",
    "            model.eval()\n",
    "            val_loss, val_acc = test(valloader, model, loss_fn)\n",
    "            model.train()\n",
    "            print(f'Iter {i}, loss = {tloss[-1]}, val_acc = {val_acc}')\n",
    "            if RECORD < val_acc:\n",
    "                RECORD = val_acc\n",
    "                print('Saving model...')\n",
    "                torch.save(model.state_dict(), f'HAN_{val_acc*100}.pth')\n",
    "                torch.save(model.state_dict(), f'HAN_best.pth')\n",
    "        \n",
    "        tloss.append(loss.cpu().detach().numpy())\n",
    "        optimizer.zero_grad()\n",
    "        loss.backward()\n",
    "        optimizer.step()\n",
    "        scheduler.step()\n",
    "        \n",
    "    model.eval()\n",
    "    val_loss, val_acc = test(valloader, model, loss_fn)\n",
    "    model.train()\n",
    "    print(f'Iter {i}, loss = {tloss[-1]}, val_acc = {val_acc}')\n",
    "    if RECORD < val_acc:\n",
    "        RECORD = val_acc\n",
    "        print('Saving model...')\n",
    "        torch.save(model.state_dict(), f'HAN_{val_acc*100}.pth')\n",
    "        torch.save(model.state_dict(), f'HAN_best.pth')\n",
    "        \n",
    "    return tloss"
   ]
  },
  {
   "cell_type": "code",
   "execution_count": 18,
   "id": "9d736822",
   "metadata": {
    "execution": {
     "iopub.execute_input": "2024-04-17T04:10:59.993292Z",
     "iopub.status.busy": "2024-04-17T04:10:59.992986Z",
     "iopub.status.idle": "2024-04-17T10:36:30.195124Z",
     "shell.execute_reply": "2024-04-17T10:36:30.194139Z"
    },
    "papermill": {
     "duration": 23130.213491,
     "end_time": "2024-04-17T10:36:30.197143",
     "exception": false,
     "start_time": "2024-04-17T04:10:59.983652",
     "status": "completed"
    },
    "tags": []
   },
   "outputs": [
    {
     "name": "stdout",
     "output_type": "stream",
     "text": [
      "Epoch 0 starts.\n"
     ]
    },
    {
     "name": "stderr",
     "output_type": "stream",
     "text": [
      "/opt/conda/lib/python3.10/site-packages/torch/nn/modules/module.py:1518: UserWarning: Implicit dimension choice for softmax has been deprecated. Change the call to include dim=X as an argument.\n",
      "  return self._call_impl(*args, **kwargs)\n"
     ]
    },
    {
     "name": "stdout",
     "output_type": "stream",
     "text": [
      "Iter 0, loss = 1.6111762523651123, val_acc = 0.08985470303339281\n",
      "Saving model...\n",
      "Iter 1000, loss = 1.2952638864517212, val_acc = 0.5544226357379557\n",
      "Saving model...\n",
      "Iter 2000, loss = 1.4533051252365112, val_acc = 0.6155365791486107\n",
      "Saving model...\n",
      "Iter 3000, loss = 1.2863788604736328, val_acc = 0.6280270201376498\n",
      "Saving model...\n",
      "Iter 4000, loss = 1.3001137971878052, val_acc = 0.661865918939587\n",
      "Saving model...\n",
      "Iter 5000, loss = 1.1962032318115234, val_acc = 0.6676013255161866\n",
      "Saving model...\n",
      "Iter 6000, loss = 1.2991843223571777, val_acc = 0.6800280397654856\n",
      "Saving model...\n",
      "Iter 7000, loss = 1.2648900747299194, val_acc = 0.6795182258475656\n",
      "Iter 8000, loss = 1.2146128416061401, val_acc = 0.686846800917665\n",
      "Saving model...\n",
      "Iter 9000, loss = 1.205983281135559, val_acc = 0.6934743818506245\n",
      "Saving model...\n",
      "Iter 10000, loss = 1.2199753522872925, val_acc = 0.6897145042059648\n",
      "Iter 11000, loss = 1.1257065534591675, val_acc = 0.6965969920978843\n",
      "Saving model...\n",
      "Iter 12000, loss = 1.2508479356765747, val_acc = 0.6931557481519246\n",
      "Iter 13000, loss = 1.1016875505447388, val_acc = 0.6973617129747642\n",
      "Saving model...\n",
      "Iter 14000, loss = 1.1184661388397217, val_acc = 0.7027147591129238\n",
      "Saving model...\n",
      "Iter 15000, loss = 1.192197561264038, val_acc = 0.7059010960999236\n",
      "Saving model...\n",
      "Iter 16000, loss = 1.18424654006958, val_acc = 0.6780525108335458\n",
      "Iter 17000, loss = 1.1067513227462769, val_acc = 0.6936018353301046\n",
      "Iter 18000, loss = 1.1926963329315186, val_acc = 0.6896507774662248\n",
      "Iter 19000, loss = 1.127686619758606, val_acc = 0.6855085393831252\n",
      "Iter 19615, loss = 1.2219643592834473, val_acc = 0.6714249299005863\n",
      "Epoch 0: LOSS = 1.2246432104010425, VAL-ACC = 0.6714249299005863\n",
      "Epoch 1 starts.\n",
      "Iter 0, loss = 1.455208420753479, val_acc = 0.6714249299005863\n",
      "Iter 1000, loss = 1.1321558952331543, val_acc = 0.7020774917155238\n",
      "Iter 2000, loss = 1.2608929872512817, val_acc = 0.7162248279378027\n",
      "Saving model...\n",
      "Iter 3000, loss = 1.2100430727005005, val_acc = 0.7136120316084629\n",
      "Iter 4000, loss = 1.2776684761047363, val_acc = 0.7174993627326026\n",
      "Saving model...\n",
      "Iter 5000, loss = 1.2014429569244385, val_acc = 0.7236171297476421\n",
      "Saving model...\n",
      "Iter 6000, loss = 1.1829075813293457, val_acc = 0.7215141473362223\n",
      "Iter 7000, loss = 1.2463939189910889, val_acc = 0.7259112923782819\n",
      "Saving model...\n",
      "Iter 8000, loss = 1.2293295860290527, val_acc = 0.725592658679582\n",
      "Iter 9000, loss = 1.18659245967865, val_acc = 0.7179454499107826\n",
      "Iter 10000, loss = 1.1830037832260132, val_acc = 0.7287152689268417\n",
      "Saving model...\n",
      "Iter 11000, loss = 1.071352243423462, val_acc = 0.7255289319398419\n",
      "Iter 12000, loss = 1.2384134531021118, val_acc = 0.7278230945704818\n",
      "Iter 13000, loss = 1.1201996803283691, val_acc = 0.7271858271730818\n",
      "Iter 14000, loss = 1.0974881649017334, val_acc = 0.7234259495284221\n",
      "Iter 15000, loss = 1.1244670152664185, val_acc = 0.7209406066785623\n",
      "Iter 16000, loss = 1.1905601024627686, val_acc = 0.7154601070609228\n",
      "Iter 17000, loss = 1.0762766599655151, val_acc = 0.724636757583482\n",
      "Iter 18000, loss = 1.1374547481536865, val_acc = 0.712464950293143\n",
      "Iter 19000, loss = 1.1113303899765015, val_acc = 0.7105531481009432\n",
      "Iter 19615, loss = 1.2213174104690552, val_acc = 0.7072393576344634\n",
      "Epoch 1: LOSS = 1.1793527080591888, VAL-ACC = 0.7072393576344634\n",
      "Epoch 2 starts.\n",
      "Iter 0, loss = 1.3203972578048706, val_acc = 0.7072393576344634\n",
      "Iter 1000, loss = 1.1212040185928345, val_acc = 0.7290339026255417\n",
      "Saving model...\n",
      "Iter 2000, loss = 1.22772216796875, val_acc = 0.7306907978587815\n",
      "Saving model...\n",
      "Iter 3000, loss = 1.1569379568099976, val_acc = 0.7280780015294418\n",
      "Iter 4000, loss = 1.2293528318405151, val_acc = 0.7312006117767015\n",
      "Saving model...\n",
      "Iter 5000, loss = 1.1948124170303345, val_acc = 0.7340045883252613\n",
      "Saving model...\n",
      "Iter 6000, loss = 1.1707655191421509, val_acc = 0.7318378791741015\n",
      "Iter 7000, loss = 1.2163292169570923, val_acc = 0.7327937802702014\n",
      "Iter 8000, loss = 1.2145134210586548, val_acc = 0.7351516696405812\n",
      "Saving model...\n",
      "Iter 9000, loss = 1.182684063911438, val_acc = 0.7342594952842213\n",
      "Iter 10000, loss = 1.1699512004852295, val_acc = 0.7334310476676014\n",
      "Iter 11000, loss = 1.063094139099121, val_acc = 0.7346418557226613\n",
      "Iter 12000, loss = 1.2328872680664062, val_acc = 0.7340683150650013\n",
      "Iter 13000, loss = 1.1516523361206055, val_acc = 0.7348967626816212\n",
      "Iter 14000, loss = 1.0937503576278687, val_acc = 0.7333673209278613\n",
      "Iter 15000, loss = 1.1173304319381714, val_acc = 0.7329212337496813\n",
      "Iter 16000, loss = 1.1948978900909424, val_acc = 0.7318378791741015\n",
      "Iter 17000, loss = 1.0948542356491089, val_acc = 0.7309457048177416\n",
      "Iter 18000, loss = 1.1345936059951782, val_acc = 0.7294799898037216\n",
      "Iter 19000, loss = 1.0939021110534668, val_acc = 0.7283966352281417\n",
      "Iter 19615, loss = 1.240060567855835, val_acc = 0.7282054550089218\n",
      "Epoch 2: LOSS = 1.1652896718893646, VAL-ACC = 0.7282054550089218\n"
     ]
    },
    {
     "data": {
      "image/png": "[encoded data removed]",
      "text/plain": [
       "<Figure size 640x480 with 1 Axes>"
      ]
     },
     "metadata": {},
     "output_type": "display_data"
    }
   ],
   "source": [
    "# TRAINING\n",
    "iter_loss = []\n",
    "epoch_loss = []\n",
    "best_acc = 0\n",
    "\n",
    "for t in range(EPOCHS):\n",
    "    print(f'Epoch {t} starts.')\n",
    "    tloss = train(trainloader, valloader, model, OPTIMIZER, SCHEDULER, LOSS_FN, 1000)\n",
    "    val_loss, val_acc = test(valloader, model, LOSS_FN)\n",
    "    \n",
    "    iter_loss = iter_loss + tloss\n",
    "    epoch_loss.append(sum(tloss) / len(tloss))\n",
    "    \n",
    "    print(f'Epoch {t}: LOSS = {epoch_loss[-1]}, VAL-ACC = {val_acc}')\n",
    "    \n",
    "torch.save(model.state_dict(), f'HAN_last.pth')\n",
    "    \n",
    "fig, axes = plt.subplots()\n",
    "axes.plot(iter_loss, label = 'train-loss')\n",
    "axes.legend()\n",
    "axes.set_xlabel('Iteration')\n",
    "axes.set_ylabel('Loss')\n",
    "plt.show()"
   ]
  },
  {
   "cell_type": "code",
   "execution_count": 19,
   "id": "ab16e041",
   "metadata": {
    "execution": {
     "iopub.execute_input": "2024-04-17T10:36:30.228124Z",
     "iopub.status.busy": "2024-04-17T10:36:30.227821Z",
     "iopub.status.idle": "2024-04-17T10:51:14.261957Z",
     "shell.execute_reply": "2024-04-17T10:51:14.260994Z"
    },
    "papermill": {
     "duration": 884.06662,
     "end_time": "2024-04-17T10:51:14.278904",
     "exception": false,
     "start_time": "2024-04-17T10:36:30.212284",
     "status": "completed"
    },
    "tags": []
   },
   "outputs": [
    {
     "name": "stdout",
     "output_type": "stream",
     "text": [
      "(LAST) Test accuracy: 0.7235218556417506\n"
     ]
    }
   ],
   "source": [
    "_, val_acc = test(testloader, model, LOSS_FN)\n",
    "print(f'(LAST) Test accuracy: {val_acc}')"
   ]
  },
  {
   "cell_type": "code",
   "execution_count": 20,
   "id": "334b88ec",
   "metadata": {
    "execution": {
     "iopub.execute_input": "2024-04-17T10:51:14.309345Z",
     "iopub.status.busy": "2024-04-17T10:51:14.308969Z",
     "iopub.status.idle": "2024-04-17T11:05:55.994889Z",
     "shell.execute_reply": "2024-04-17T11:05:55.993930Z"
    },
    "papermill": {
     "duration": 881.717589,
     "end_time": "2024-04-17T11:05:56.011254",
     "exception": false,
     "start_time": "2024-04-17T10:51:14.293665",
     "status": "completed"
    },
    "tags": []
   },
   "outputs": [
    {
     "name": "stdout",
     "output_type": "stream",
     "text": [
      "(BEST) Test accuracy: 0.7255945613276049\n"
     ]
    }
   ],
   "source": [
    "model.load_state_dict(torch.load('HAN_best.pth', map_location= DEVICE))\n",
    "_, val_acc = test(testloader, model, LOSS_FN)\n",
    "print(f'(BEST) Test accuracy: {val_acc}')"
   ]
  }
 ],
 "metadata": {
  "kaggle": {
   "accelerator": "gpu",
   "dataSources": [
    {
     "datasetId": 1835,
     "sourceId": 3176,
     "sourceType": "datasetVersion"
    },
    {
     "datasetId": 10100,
     "sourceId": 3316532,
     "sourceType": "datasetVersion"
    },
    {
     "datasetId": 4741673,
     "sourceId": 8053014,
     "sourceType": "datasetVersion"
    }
   ],
   "dockerImageVersionId": 30673,
   "isGpuEnabled": true,
   "isInternetEnabled": true,
   "language": "python",
   "sourceType": "notebook"
  },
  "kernelspec": {
   "display_name": "Python 3",
   "language": "python",
   "name": "python3"
  },
  "language_info": {
   "codemirror_mode": {
    "name": "ipython",
    "version": 3
   },
   "file_extension": ".py",
   "mimetype": "text/x-python",
   "name": "python",
   "nbconvert_exporter": "python",
   "pygments_lexer": "ipython3",
   "version": "3.10.13"
  },
  "papermill": {
   "default_parameters": {},
   "duration": 25094.708097,
   "end_time": "2024-04-17T11:05:58.997302",
   "environment_variables": {},
   "exception": null,
   "input_path": "__notebook__.ipynb",
   "output_path": "__notebook__.ipynb",
   "parameters": {},
   "start_time": "2024-04-17T04:07:44.289205",
   "version": "2.5.0"
  }
 },
 "nbformat": 4,
 "nbformat_minor": 5
}
